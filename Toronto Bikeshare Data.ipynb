{
 "cells": [
  {
   "cell_type": "markdown",
   "metadata": {
    "id": "ZtFWGETt9X-A"
   },
   "source": [
    "**Personal Project**\n",
    "\n",
    "---\n",
    "*   Agung Besti\n",
    "*   Alifia Listu Samatha\n",
    "*   Anindya Widi"
   ]
  },
  {
   "cell_type": "code",
   "execution_count": 1,
   "metadata": {
    "id": "Um7vXWE4872U"
   },
   "outputs": [],
   "source": [
    "import pandas as pd\n",
    "import numpy as np\n",
    "import matplotlib.pyplot as plt"
   ]
  },
  {
   "cell_type": "code",
   "execution_count": 2,
   "metadata": {
    "id": "2ziMz3zH-StJ"
   },
   "outputs": [],
   "source": [
    "q1_2018 = pd.read_csv('/content/drive/My Drive/bikeshare2018/Bike Share Toronto Ridership_Q1 2018.csv')\n",
    "q2_2018 = pd.read_csv('/content/drive/My Drive/bikeshare2018/Bike Share Toronto Ridership_Q2 2018.csv')\n",
    "q3_2018 = pd.read_csv('/content/drive/My Drive/bikeshare2018/Bike Share Toronto Ridership_Q3 2018.csv')\n",
    "q4_2018 = pd.read_csv('/content/drive/My Drive/bikeshare2018/Bike Share Toronto Ridership_Q4 2018.csv')"
   ]
  },
  {
   "cell_type": "code",
   "execution_count": 3,
   "metadata": {
    "id": "HVAusgM0GL56"
   },
   "outputs": [],
   "source": [
    "toronto = [q1_2018, q2_2018, q3_2018, q4_2018]\n",
    "data = pd.concat(toronto)"
   ]
  },
  {
   "cell_type": "code",
   "execution_count": 4,
   "metadata": {
    "colab": {
     "base_uri": "https://localhost:8080/",
     "height": 195
    },
    "id": "Hf7b9c3YGN0g",
    "outputId": "9ad2f1d2-31e9-443e-bb8c-0ff2ee29765a"
   },
   "outputs": [
    {
     "data": {
      "text/html": [
       "<div>\n",
       "<style scoped>\n",
       "    .dataframe tbody tr th:only-of-type {\n",
       "        vertical-align: middle;\n",
       "    }\n",
       "\n",
       "    .dataframe tbody tr th {\n",
       "        vertical-align: top;\n",
       "    }\n",
       "\n",
       "    .dataframe thead th {\n",
       "        text-align: right;\n",
       "    }\n",
       "</style>\n",
       "<table border=\"1\" class=\"dataframe\">\n",
       "  <thead>\n",
       "    <tr style=\"text-align: right;\">\n",
       "      <th></th>\n",
       "      <th>trip_id</th>\n",
       "      <th>trip_duration_seconds</th>\n",
       "      <th>from_station_id</th>\n",
       "      <th>trip_start_time</th>\n",
       "      <th>from_station_name</th>\n",
       "      <th>trip_stop_time</th>\n",
       "      <th>to_station_id</th>\n",
       "      <th>to_station_name</th>\n",
       "      <th>user_type</th>\n",
       "    </tr>\n",
       "  </thead>\n",
       "  <tbody>\n",
       "    <tr>\n",
       "      <th>0</th>\n",
       "      <td>2383648</td>\n",
       "      <td>393</td>\n",
       "      <td>7018</td>\n",
       "      <td>1/1/2018 0:47</td>\n",
       "      <td>Bremner Blvd / Rees St</td>\n",
       "      <td>1/1/2018 0:54</td>\n",
       "      <td>7176</td>\n",
       "      <td>Bathurst St / Fort York Blvd</td>\n",
       "      <td>Annual Member</td>\n",
       "    </tr>\n",
       "    <tr>\n",
       "      <th>1</th>\n",
       "      <td>2383649</td>\n",
       "      <td>625</td>\n",
       "      <td>7184</td>\n",
       "      <td>1/1/2018 0:52</td>\n",
       "      <td>Ossington Ave / College St</td>\n",
       "      <td>1/1/2018 1:03</td>\n",
       "      <td>7191</td>\n",
       "      <td>Central Tech  (Harbord St)</td>\n",
       "      <td>Annual Member</td>\n",
       "    </tr>\n",
       "    <tr>\n",
       "      <th>2</th>\n",
       "      <td>2383650</td>\n",
       "      <td>233</td>\n",
       "      <td>7235</td>\n",
       "      <td>1/1/2018 0:55</td>\n",
       "      <td>Bay St / College St (West Side) - SMART</td>\n",
       "      <td>1/1/2018 0:59</td>\n",
       "      <td>7021</td>\n",
       "      <td>Bay St / Albert St</td>\n",
       "      <td>Annual Member</td>\n",
       "    </tr>\n",
       "    <tr>\n",
       "      <th>3</th>\n",
       "      <td>2383651</td>\n",
       "      <td>1138</td>\n",
       "      <td>7202</td>\n",
       "      <td>1/1/2018 0:57</td>\n",
       "      <td>Queen St W / York St (City Hall)</td>\n",
       "      <td>1/1/2018 1:16</td>\n",
       "      <td>7020</td>\n",
       "      <td>Phoebe St / Spadina Ave</td>\n",
       "      <td>Annual Member</td>\n",
       "    </tr>\n",
       "    <tr>\n",
       "      <th>4</th>\n",
       "      <td>2383652</td>\n",
       "      <td>703</td>\n",
       "      <td>7004</td>\n",
       "      <td>1/1/2018 1:00</td>\n",
       "      <td>University Ave / Elm St</td>\n",
       "      <td>1/1/2018 1:12</td>\n",
       "      <td>7060</td>\n",
       "      <td>Princess St / Adelaide St E</td>\n",
       "      <td>Annual Member</td>\n",
       "    </tr>\n",
       "  </tbody>\n",
       "</table>\n",
       "</div>"
      ],
      "text/plain": [
       "   trip_id  trip_duration_seconds  ...               to_station_name      user_type\n",
       "0  2383648                    393  ...  Bathurst St / Fort York Blvd  Annual Member\n",
       "1  2383649                    625  ...    Central Tech  (Harbord St)  Annual Member\n",
       "2  2383650                    233  ...            Bay St / Albert St  Annual Member\n",
       "3  2383651                   1138  ...       Phoebe St / Spadina Ave  Annual Member\n",
       "4  2383652                    703  ...   Princess St / Adelaide St E  Annual Member\n",
       "\n",
       "[5 rows x 9 columns]"
      ]
     },
     "execution_count": 4,
     "metadata": {
      "tags": []
     },
     "output_type": "execute_result"
    }
   ],
   "source": [
    "data.head()"
   ]
  },
  {
   "cell_type": "code",
   "execution_count": 5,
   "metadata": {
    "colab": {
     "base_uri": "https://localhost:8080/",
     "height": 34
    },
    "id": "1AvVDPQAHCAk",
    "outputId": "e7a7c588-ab50-40ac-bca9-0e8e839b0845"
   },
   "outputs": [
    {
     "data": {
      "text/plain": [
       "(1922955, 9)"
      ]
     },
     "execution_count": 5,
     "metadata": {
      "tags": []
     },
     "output_type": "execute_result"
    }
   ],
   "source": [
    "data.shape"
   ]
  },
  {
   "cell_type": "code",
   "execution_count": 6,
   "metadata": {
    "colab": {
     "base_uri": "https://localhost:8080/",
     "height": 34
    },
    "id": "B4jOcpPIEDB2",
    "outputId": "67c6fbcf-4663-47ac-8ff4-494b1fb17c12"
   },
   "outputs": [
    {
     "data": {
      "text/plain": [
       "False"
      ]
     },
     "execution_count": 6,
     "metadata": {
      "tags": []
     },
     "output_type": "execute_result"
    }
   ],
   "source": [
    "data.isnull().values.any()"
   ]
  },
  {
   "cell_type": "markdown",
   "metadata": {
    "id": "rCS7WGQflhZR"
   },
   "source": [
    "### **1. Are bikeshare users would travel in the reverse direction in the evening than in the morning?**"
   ]
  },
  {
   "cell_type": "code",
   "execution_count": 7,
   "metadata": {
    "id": "Kn0azBawok8Q"
   },
   "outputs": [],
   "source": [
    "from datetime import datetime"
   ]
  },
  {
   "cell_type": "code",
   "execution_count": 8,
   "metadata": {
    "id": "wqzn-sW4sFlN"
   },
   "outputs": [],
   "source": [
    "#convert time to datetime\n",
    "data['time'] = pd.to_datetime(data.trip_start_time)\n",
    "data.index = data.time.dt.date\n",
    "data.index.name = 'index'"
   ]
  },
  {
   "cell_type": "code",
   "execution_count": 9,
   "metadata": {
    "colab": {
     "base_uri": "https://localhost:8080/",
     "height": 309
    },
    "id": "-KeEuab1FQbb",
    "outputId": "a898979b-1bd4-40f0-8989-13a5dc12ddc2"
   },
   "outputs": [
    {
     "data": {
      "text/html": [
       "<div>\n",
       "<style scoped>\n",
       "    .dataframe tbody tr th:only-of-type {\n",
       "        vertical-align: middle;\n",
       "    }\n",
       "\n",
       "    .dataframe tbody tr th {\n",
       "        vertical-align: top;\n",
       "    }\n",
       "\n",
       "    .dataframe thead th {\n",
       "        text-align: right;\n",
       "    }\n",
       "</style>\n",
       "<table border=\"1\" class=\"dataframe\">\n",
       "  <thead>\n",
       "    <tr style=\"text-align: right;\">\n",
       "      <th></th>\n",
       "      <th>trip_id</th>\n",
       "      <th>trip_duration_seconds</th>\n",
       "      <th>from_station_id</th>\n",
       "      <th>trip_start_time</th>\n",
       "      <th>from_station_name</th>\n",
       "      <th>trip_stop_time</th>\n",
       "      <th>to_station_id</th>\n",
       "      <th>to_station_name</th>\n",
       "      <th>user_type</th>\n",
       "      <th>time</th>\n",
       "    </tr>\n",
       "    <tr>\n",
       "      <th>index</th>\n",
       "      <th></th>\n",
       "      <th></th>\n",
       "      <th></th>\n",
       "      <th></th>\n",
       "      <th></th>\n",
       "      <th></th>\n",
       "      <th></th>\n",
       "      <th></th>\n",
       "      <th></th>\n",
       "      <th></th>\n",
       "    </tr>\n",
       "  </thead>\n",
       "  <tbody>\n",
       "    <tr>\n",
       "      <th>2018-01-01</th>\n",
       "      <td>2383648</td>\n",
       "      <td>393</td>\n",
       "      <td>7018</td>\n",
       "      <td>1/1/2018 0:47</td>\n",
       "      <td>Bremner Blvd / Rees St</td>\n",
       "      <td>1/1/2018 0:54</td>\n",
       "      <td>7176</td>\n",
       "      <td>Bathurst St / Fort York Blvd</td>\n",
       "      <td>Annual Member</td>\n",
       "      <td>2018-01-01 00:47:00</td>\n",
       "    </tr>\n",
       "    <tr>\n",
       "      <th>2018-01-01</th>\n",
       "      <td>2383649</td>\n",
       "      <td>625</td>\n",
       "      <td>7184</td>\n",
       "      <td>1/1/2018 0:52</td>\n",
       "      <td>Ossington Ave / College St</td>\n",
       "      <td>1/1/2018 1:03</td>\n",
       "      <td>7191</td>\n",
       "      <td>Central Tech  (Harbord St)</td>\n",
       "      <td>Annual Member</td>\n",
       "      <td>2018-01-01 00:52:00</td>\n",
       "    </tr>\n",
       "    <tr>\n",
       "      <th>2018-01-01</th>\n",
       "      <td>2383650</td>\n",
       "      <td>233</td>\n",
       "      <td>7235</td>\n",
       "      <td>1/1/2018 0:55</td>\n",
       "      <td>Bay St / College St (West Side) - SMART</td>\n",
       "      <td>1/1/2018 0:59</td>\n",
       "      <td>7021</td>\n",
       "      <td>Bay St / Albert St</td>\n",
       "      <td>Annual Member</td>\n",
       "      <td>2018-01-01 00:55:00</td>\n",
       "    </tr>\n",
       "    <tr>\n",
       "      <th>2018-01-01</th>\n",
       "      <td>2383651</td>\n",
       "      <td>1138</td>\n",
       "      <td>7202</td>\n",
       "      <td>1/1/2018 0:57</td>\n",
       "      <td>Queen St W / York St (City Hall)</td>\n",
       "      <td>1/1/2018 1:16</td>\n",
       "      <td>7020</td>\n",
       "      <td>Phoebe St / Spadina Ave</td>\n",
       "      <td>Annual Member</td>\n",
       "      <td>2018-01-01 00:57:00</td>\n",
       "    </tr>\n",
       "    <tr>\n",
       "      <th>2018-01-01</th>\n",
       "      <td>2383652</td>\n",
       "      <td>703</td>\n",
       "      <td>7004</td>\n",
       "      <td>1/1/2018 1:00</td>\n",
       "      <td>University Ave / Elm St</td>\n",
       "      <td>1/1/2018 1:12</td>\n",
       "      <td>7060</td>\n",
       "      <td>Princess St / Adelaide St E</td>\n",
       "      <td>Annual Member</td>\n",
       "      <td>2018-01-01 01:00:00</td>\n",
       "    </tr>\n",
       "  </tbody>\n",
       "</table>\n",
       "</div>"
      ],
      "text/plain": [
       "            trip_id  trip_duration_seconds  ...      user_type                time\n",
       "index                                       ...                                   \n",
       "2018-01-01  2383648                    393  ...  Annual Member 2018-01-01 00:47:00\n",
       "2018-01-01  2383649                    625  ...  Annual Member 2018-01-01 00:52:00\n",
       "2018-01-01  2383650                    233  ...  Annual Member 2018-01-01 00:55:00\n",
       "2018-01-01  2383651                   1138  ...  Annual Member 2018-01-01 00:57:00\n",
       "2018-01-01  2383652                    703  ...  Annual Member 2018-01-01 01:00:00\n",
       "\n",
       "[5 rows x 10 columns]"
      ]
     },
     "execution_count": 9,
     "metadata": {
      "tags": []
     },
     "output_type": "execute_result"
    }
   ],
   "source": [
    "data.head()"
   ]
  },
  {
   "cell_type": "code",
   "execution_count": 10,
   "metadata": {
    "id": "nyEY6JQ_Ga6T"
   },
   "outputs": [],
   "source": [
    "#Convert time to part of day\n",
    "data['period'] = (data['time'].dt.hour % 24 + 4) // 4\n",
    "data['period'].replace({1: 'Late Night',\n",
    "                      2: 'Early Morning',\n",
    "                      3: 'Morning',\n",
    "                      4: 'Noon',\n",
    "                      5: 'Evening',\n",
    "                      6: 'Night'}, inplace=True)"
   ]
  },
  {
   "cell_type": "code",
   "execution_count": 11,
   "metadata": {
    "colab": {
     "base_uri": "https://localhost:8080/",
     "height": 541
    },
    "id": "5TpWJzg6GiO6",
    "outputId": "63b1268f-11b5-43d3-96ea-f41d63666416"
   },
   "outputs": [
    {
     "data": {
      "text/html": [
       "<div>\n",
       "<style scoped>\n",
       "    .dataframe tbody tr th:only-of-type {\n",
       "        vertical-align: middle;\n",
       "    }\n",
       "\n",
       "    .dataframe tbody tr th {\n",
       "        vertical-align: top;\n",
       "    }\n",
       "\n",
       "    .dataframe thead th {\n",
       "        text-align: right;\n",
       "    }\n",
       "</style>\n",
       "<table border=\"1\" class=\"dataframe\">\n",
       "  <thead>\n",
       "    <tr style=\"text-align: right;\">\n",
       "      <th></th>\n",
       "      <th>trip_id</th>\n",
       "      <th>trip_duration_seconds</th>\n",
       "      <th>from_station_id</th>\n",
       "      <th>trip_start_time</th>\n",
       "      <th>from_station_name</th>\n",
       "      <th>trip_stop_time</th>\n",
       "      <th>to_station_id</th>\n",
       "      <th>to_station_name</th>\n",
       "      <th>user_type</th>\n",
       "      <th>time</th>\n",
       "      <th>period</th>\n",
       "    </tr>\n",
       "    <tr>\n",
       "      <th>index</th>\n",
       "      <th></th>\n",
       "      <th></th>\n",
       "      <th></th>\n",
       "      <th></th>\n",
       "      <th></th>\n",
       "      <th></th>\n",
       "      <th></th>\n",
       "      <th></th>\n",
       "      <th></th>\n",
       "      <th></th>\n",
       "      <th></th>\n",
       "    </tr>\n",
       "  </thead>\n",
       "  <tbody>\n",
       "    <tr>\n",
       "      <th>2018-01-01</th>\n",
       "      <td>2383648</td>\n",
       "      <td>393</td>\n",
       "      <td>7018</td>\n",
       "      <td>1/1/2018 0:47</td>\n",
       "      <td>Bremner Blvd / Rees St</td>\n",
       "      <td>1/1/2018 0:54</td>\n",
       "      <td>7176</td>\n",
       "      <td>Bathurst St / Fort York Blvd</td>\n",
       "      <td>Annual Member</td>\n",
       "      <td>2018-01-01 00:47:00</td>\n",
       "      <td>Late Night</td>\n",
       "    </tr>\n",
       "    <tr>\n",
       "      <th>2018-01-01</th>\n",
       "      <td>2383649</td>\n",
       "      <td>625</td>\n",
       "      <td>7184</td>\n",
       "      <td>1/1/2018 0:52</td>\n",
       "      <td>Ossington Ave / College St</td>\n",
       "      <td>1/1/2018 1:03</td>\n",
       "      <td>7191</td>\n",
       "      <td>Central Tech  (Harbord St)</td>\n",
       "      <td>Annual Member</td>\n",
       "      <td>2018-01-01 00:52:00</td>\n",
       "      <td>Late Night</td>\n",
       "    </tr>\n",
       "    <tr>\n",
       "      <th>2018-01-01</th>\n",
       "      <td>2383650</td>\n",
       "      <td>233</td>\n",
       "      <td>7235</td>\n",
       "      <td>1/1/2018 0:55</td>\n",
       "      <td>Bay St / College St (West Side) - SMART</td>\n",
       "      <td>1/1/2018 0:59</td>\n",
       "      <td>7021</td>\n",
       "      <td>Bay St / Albert St</td>\n",
       "      <td>Annual Member</td>\n",
       "      <td>2018-01-01 00:55:00</td>\n",
       "      <td>Late Night</td>\n",
       "    </tr>\n",
       "    <tr>\n",
       "      <th>2018-01-01</th>\n",
       "      <td>2383651</td>\n",
       "      <td>1138</td>\n",
       "      <td>7202</td>\n",
       "      <td>1/1/2018 0:57</td>\n",
       "      <td>Queen St W / York St (City Hall)</td>\n",
       "      <td>1/1/2018 1:16</td>\n",
       "      <td>7020</td>\n",
       "      <td>Phoebe St / Spadina Ave</td>\n",
       "      <td>Annual Member</td>\n",
       "      <td>2018-01-01 00:57:00</td>\n",
       "      <td>Late Night</td>\n",
       "    </tr>\n",
       "    <tr>\n",
       "      <th>2018-01-01</th>\n",
       "      <td>2383652</td>\n",
       "      <td>703</td>\n",
       "      <td>7004</td>\n",
       "      <td>1/1/2018 1:00</td>\n",
       "      <td>University Ave / Elm St</td>\n",
       "      <td>1/1/2018 1:12</td>\n",
       "      <td>7060</td>\n",
       "      <td>Princess St / Adelaide St E</td>\n",
       "      <td>Annual Member</td>\n",
       "      <td>2018-01-01 01:00:00</td>\n",
       "      <td>Late Night</td>\n",
       "    </tr>\n",
       "    <tr>\n",
       "      <th>2018-01-01</th>\n",
       "      <td>2383653</td>\n",
       "      <td>1026</td>\n",
       "      <td>7078</td>\n",
       "      <td>1/1/2018 1:07</td>\n",
       "      <td>College St / Major St</td>\n",
       "      <td>1/1/2018 1:24</td>\n",
       "      <td>7130</td>\n",
       "      <td>Pears Av / Avenue Rd</td>\n",
       "      <td>Annual Member</td>\n",
       "      <td>2018-01-01 01:07:00</td>\n",
       "      <td>Late Night</td>\n",
       "    </tr>\n",
       "    <tr>\n",
       "      <th>2018-01-01</th>\n",
       "      <td>2383654</td>\n",
       "      <td>274</td>\n",
       "      <td>7021</td>\n",
       "      <td>1/1/2018 1:33</td>\n",
       "      <td>Bay St / Albert St</td>\n",
       "      <td>1/1/2018 1:38</td>\n",
       "      <td>7033</td>\n",
       "      <td>Union Station</td>\n",
       "      <td>Annual Member</td>\n",
       "      <td>2018-01-01 01:33:00</td>\n",
       "      <td>Late Night</td>\n",
       "    </tr>\n",
       "    <tr>\n",
       "      <th>2018-01-01</th>\n",
       "      <td>2383655</td>\n",
       "      <td>764</td>\n",
       "      <td>7046</td>\n",
       "      <td>1/1/2018 1:34</td>\n",
       "      <td>Niagara St / Richmond St W</td>\n",
       "      <td>1/1/2018 1:47</td>\n",
       "      <td>7275</td>\n",
       "      <td>Queen St W / James St</td>\n",
       "      <td>Annual Member</td>\n",
       "      <td>2018-01-01 01:34:00</td>\n",
       "      <td>Late Night</td>\n",
       "    </tr>\n",
       "    <tr>\n",
       "      <th>2018-01-01</th>\n",
       "      <td>2383657</td>\n",
       "      <td>237</td>\n",
       "      <td>7044</td>\n",
       "      <td>1/1/2018 1:37</td>\n",
       "      <td>Church St / Alexander St</td>\n",
       "      <td>1/1/2018 1:41</td>\n",
       "      <td>7028</td>\n",
       "      <td>Gould St / Mutual St</td>\n",
       "      <td>Annual Member</td>\n",
       "      <td>2018-01-01 01:37:00</td>\n",
       "      <td>Late Night</td>\n",
       "    </tr>\n",
       "    <tr>\n",
       "      <th>2018-01-01</th>\n",
       "      <td>2383658</td>\n",
       "      <td>180</td>\n",
       "      <td>7198</td>\n",
       "      <td>1/1/2018 1:38</td>\n",
       "      <td>Queen St W / Cowan Ave</td>\n",
       "      <td>1/1/2018 1:41</td>\n",
       "      <td>7193</td>\n",
       "      <td>Queen St W / Gladstone Ave</td>\n",
       "      <td>Annual Member</td>\n",
       "      <td>2018-01-01 01:38:00</td>\n",
       "      <td>Late Night</td>\n",
       "    </tr>\n",
       "  </tbody>\n",
       "</table>\n",
       "</div>"
      ],
      "text/plain": [
       "            trip_id  trip_duration_seconds  ...                time      period\n",
       "index                                       ...                                \n",
       "2018-01-01  2383648                    393  ... 2018-01-01 00:47:00  Late Night\n",
       "2018-01-01  2383649                    625  ... 2018-01-01 00:52:00  Late Night\n",
       "2018-01-01  2383650                    233  ... 2018-01-01 00:55:00  Late Night\n",
       "2018-01-01  2383651                   1138  ... 2018-01-01 00:57:00  Late Night\n",
       "2018-01-01  2383652                    703  ... 2018-01-01 01:00:00  Late Night\n",
       "2018-01-01  2383653                   1026  ... 2018-01-01 01:07:00  Late Night\n",
       "2018-01-01  2383654                    274  ... 2018-01-01 01:33:00  Late Night\n",
       "2018-01-01  2383655                    764  ... 2018-01-01 01:34:00  Late Night\n",
       "2018-01-01  2383657                    237  ... 2018-01-01 01:37:00  Late Night\n",
       "2018-01-01  2383658                    180  ... 2018-01-01 01:38:00  Late Night\n",
       "\n",
       "[10 rows x 11 columns]"
      ]
     },
     "execution_count": 11,
     "metadata": {
      "tags": []
     },
     "output_type": "execute_result"
    }
   ],
   "source": [
    "data.head(10)"
   ]
  },
  {
   "cell_type": "code",
   "execution_count": 12,
   "metadata": {
    "id": "7HBEJIesHdIn"
   },
   "outputs": [],
   "source": [
    "allmorning_bikers = data[data['period'].str.contains('Morning', regex=False)]"
   ]
  },
  {
   "cell_type": "code",
   "execution_count": 13,
   "metadata": {
    "id": "jwbJK8gtI5AH"
   },
   "outputs": [],
   "source": [
    "morning_bikers = allmorning_bikers[~allmorning_bikers['period'].str.contains('Early', regex=False)]"
   ]
  },
  {
   "cell_type": "code",
   "execution_count": 14,
   "metadata": {
    "colab": {
     "base_uri": "https://localhost:8080/",
     "height": 309
    },
    "id": "0qIMWZglHdmU",
    "outputId": "d6839cb0-64c5-4656-cea5-60ac361b48b6"
   },
   "outputs": [
    {
     "data": {
      "text/html": [
       "<div>\n",
       "<style scoped>\n",
       "    .dataframe tbody tr th:only-of-type {\n",
       "        vertical-align: middle;\n",
       "    }\n",
       "\n",
       "    .dataframe tbody tr th {\n",
       "        vertical-align: top;\n",
       "    }\n",
       "\n",
       "    .dataframe thead th {\n",
       "        text-align: right;\n",
       "    }\n",
       "</style>\n",
       "<table border=\"1\" class=\"dataframe\">\n",
       "  <thead>\n",
       "    <tr style=\"text-align: right;\">\n",
       "      <th></th>\n",
       "      <th>trip_id</th>\n",
       "      <th>trip_duration_seconds</th>\n",
       "      <th>from_station_id</th>\n",
       "      <th>trip_start_time</th>\n",
       "      <th>from_station_name</th>\n",
       "      <th>trip_stop_time</th>\n",
       "      <th>to_station_id</th>\n",
       "      <th>to_station_name</th>\n",
       "      <th>user_type</th>\n",
       "      <th>time</th>\n",
       "      <th>period</th>\n",
       "    </tr>\n",
       "    <tr>\n",
       "      <th>index</th>\n",
       "      <th></th>\n",
       "      <th></th>\n",
       "      <th></th>\n",
       "      <th></th>\n",
       "      <th></th>\n",
       "      <th></th>\n",
       "      <th></th>\n",
       "      <th></th>\n",
       "      <th></th>\n",
       "      <th></th>\n",
       "      <th></th>\n",
       "    </tr>\n",
       "  </thead>\n",
       "  <tbody>\n",
       "    <tr>\n",
       "      <th>2018-01-01</th>\n",
       "      <td>2383700</td>\n",
       "      <td>511</td>\n",
       "      <td>7042</td>\n",
       "      <td>1/1/2018 8:20</td>\n",
       "      <td>Sherbourne St / Wellesley St E</td>\n",
       "      <td>1/1/2018 8:28</td>\n",
       "      <td>7009</td>\n",
       "      <td>King St E / Jarvis St</td>\n",
       "      <td>Annual Member</td>\n",
       "      <td>2018-01-01 08:20:00</td>\n",
       "      <td>Morning</td>\n",
       "    </tr>\n",
       "    <tr>\n",
       "      <th>2018-01-01</th>\n",
       "      <td>2383701</td>\n",
       "      <td>644</td>\n",
       "      <td>7203</td>\n",
       "      <td>1/1/2018 8:24</td>\n",
       "      <td>Bathurst St/Queens Quay(Billy Bishop Airport)</td>\n",
       "      <td>1/1/2018 8:34</td>\n",
       "      <td>7043</td>\n",
       "      <td>Queens Quay W / Lower Simcoe St</td>\n",
       "      <td>Annual Member</td>\n",
       "      <td>2018-01-01 08:24:00</td>\n",
       "      <td>Morning</td>\n",
       "    </tr>\n",
       "    <tr>\n",
       "      <th>2018-01-01</th>\n",
       "      <td>2383702</td>\n",
       "      <td>216</td>\n",
       "      <td>7153</td>\n",
       "      <td>1/1/2018 8:26</td>\n",
       "      <td>Bloor St W / Christie St</td>\n",
       "      <td>1/1/2018 8:29</td>\n",
       "      <td>7149</td>\n",
       "      <td>Yarmouth Rd / Christie St</td>\n",
       "      <td>Annual Member</td>\n",
       "      <td>2018-01-01 08:26:00</td>\n",
       "      <td>Morning</td>\n",
       "    </tr>\n",
       "    <tr>\n",
       "      <th>2018-01-01</th>\n",
       "      <td>2383703</td>\n",
       "      <td>448</td>\n",
       "      <td>7241</td>\n",
       "      <td>1/1/2018 8:48</td>\n",
       "      <td>519 Church St - SMART</td>\n",
       "      <td>1/1/2018 8:55</td>\n",
       "      <td>7062</td>\n",
       "      <td>University Ave / College St (West)</td>\n",
       "      <td>Annual Member</td>\n",
       "      <td>2018-01-01 08:48:00</td>\n",
       "      <td>Morning</td>\n",
       "    </tr>\n",
       "    <tr>\n",
       "      <th>2018-01-01</th>\n",
       "      <td>2383704</td>\n",
       "      <td>290</td>\n",
       "      <td>7000</td>\n",
       "      <td>1/1/2018 9:22</td>\n",
       "      <td>Fort York  Blvd / Capreol Ct</td>\n",
       "      <td>1/1/2018 9:27</td>\n",
       "      <td>7011</td>\n",
       "      <td>Wellington St W / Portland St</td>\n",
       "      <td>Annual Member</td>\n",
       "      <td>2018-01-01 09:22:00</td>\n",
       "      <td>Morning</td>\n",
       "    </tr>\n",
       "  </tbody>\n",
       "</table>\n",
       "</div>"
      ],
      "text/plain": [
       "            trip_id  trip_duration_seconds  ...                time   period\n",
       "index                                       ...                             \n",
       "2018-01-01  2383700                    511  ... 2018-01-01 08:20:00  Morning\n",
       "2018-01-01  2383701                    644  ... 2018-01-01 08:24:00  Morning\n",
       "2018-01-01  2383702                    216  ... 2018-01-01 08:26:00  Morning\n",
       "2018-01-01  2383703                    448  ... 2018-01-01 08:48:00  Morning\n",
       "2018-01-01  2383704                    290  ... 2018-01-01 09:22:00  Morning\n",
       "\n",
       "[5 rows x 11 columns]"
      ]
     },
     "execution_count": 14,
     "metadata": {
      "tags": []
     },
     "output_type": "execute_result"
    }
   ],
   "source": [
    "morning_bikers.head()"
   ]
  },
  {
   "cell_type": "code",
   "execution_count": 15,
   "metadata": {
    "colab": {
     "base_uri": "https://localhost:8080/",
     "height": 309
    },
    "id": "sA7G621zJebD",
    "outputId": "67b5a499-39b6-4787-9670-bab4a8e24591"
   },
   "outputs": [
    {
     "data": {
      "text/html": [
       "<div>\n",
       "<style scoped>\n",
       "    .dataframe tbody tr th:only-of-type {\n",
       "        vertical-align: middle;\n",
       "    }\n",
       "\n",
       "    .dataframe tbody tr th {\n",
       "        vertical-align: top;\n",
       "    }\n",
       "\n",
       "    .dataframe thead th {\n",
       "        text-align: right;\n",
       "    }\n",
       "</style>\n",
       "<table border=\"1\" class=\"dataframe\">\n",
       "  <thead>\n",
       "    <tr style=\"text-align: right;\">\n",
       "      <th></th>\n",
       "      <th>trip_id</th>\n",
       "      <th>trip_duration_seconds</th>\n",
       "      <th>from_station_id</th>\n",
       "      <th>trip_start_time</th>\n",
       "      <th>from_station_name</th>\n",
       "      <th>trip_stop_time</th>\n",
       "      <th>to_station_id</th>\n",
       "      <th>to_station_name</th>\n",
       "      <th>user_type</th>\n",
       "      <th>time</th>\n",
       "      <th>period</th>\n",
       "    </tr>\n",
       "    <tr>\n",
       "      <th>index</th>\n",
       "      <th></th>\n",
       "      <th></th>\n",
       "      <th></th>\n",
       "      <th></th>\n",
       "      <th></th>\n",
       "      <th></th>\n",
       "      <th></th>\n",
       "      <th></th>\n",
       "      <th></th>\n",
       "      <th></th>\n",
       "      <th></th>\n",
       "    </tr>\n",
       "  </thead>\n",
       "  <tbody>\n",
       "    <tr>\n",
       "      <th>2018-12-31</th>\n",
       "      <td>4580270</td>\n",
       "      <td>251</td>\n",
       "      <td>7336</td>\n",
       "      <td>12/31/2018 11:58</td>\n",
       "      <td>Queen St E / Alton Av</td>\n",
       "      <td>12/31/2018 12:02</td>\n",
       "      <td>7287</td>\n",
       "      <td>Queen St E / Pape Ave - SMART</td>\n",
       "      <td>Annual Member</td>\n",
       "      <td>2018-12-31 11:58:00</td>\n",
       "      <td>Morning</td>\n",
       "    </tr>\n",
       "    <tr>\n",
       "      <th>2018-12-31</th>\n",
       "      <td>4580271</td>\n",
       "      <td>323</td>\n",
       "      <td>7324</td>\n",
       "      <td>12/31/2018 11:58</td>\n",
       "      <td>King St W / Charlotte St</td>\n",
       "      <td>12/31/2018 12:03</td>\n",
       "      <td>7049</td>\n",
       "      <td>Queen St W / Portland St</td>\n",
       "      <td>Annual Member</td>\n",
       "      <td>2018-12-31 11:58:00</td>\n",
       "      <td>Morning</td>\n",
       "    </tr>\n",
       "    <tr>\n",
       "      <th>2018-12-31</th>\n",
       "      <td>4580272</td>\n",
       "      <td>923</td>\n",
       "      <td>7235</td>\n",
       "      <td>12/31/2018 11:58</td>\n",
       "      <td>Bay St / College St (West Side) - SMART</td>\n",
       "      <td>12/31/2018 12:14</td>\n",
       "      <td>7038</td>\n",
       "      <td>Dundas St W / Yonge St</td>\n",
       "      <td>Annual Member</td>\n",
       "      <td>2018-12-31 11:58:00</td>\n",
       "      <td>Morning</td>\n",
       "    </tr>\n",
       "    <tr>\n",
       "      <th>2018-12-31</th>\n",
       "      <td>4580273</td>\n",
       "      <td>328</td>\n",
       "      <td>7040</td>\n",
       "      <td>12/31/2018 11:59</td>\n",
       "      <td>Euclid Ave / Bloor St W</td>\n",
       "      <td>12/31/2018 12:04</td>\n",
       "      <td>7149</td>\n",
       "      <td>Yarmouth Rd / Christie St</td>\n",
       "      <td>Annual Member</td>\n",
       "      <td>2018-12-31 11:59:00</td>\n",
       "      <td>Morning</td>\n",
       "    </tr>\n",
       "    <tr>\n",
       "      <th>2018-12-31</th>\n",
       "      <td>4580274</td>\n",
       "      <td>266</td>\n",
       "      <td>7385</td>\n",
       "      <td>12/31/2018 11:59</td>\n",
       "      <td>20 Charles St E</td>\n",
       "      <td>12/31/2018 12:03</td>\n",
       "      <td>7006</td>\n",
       "      <td>Bay St / College St (East Side)</td>\n",
       "      <td>Annual Member</td>\n",
       "      <td>2018-12-31 11:59:00</td>\n",
       "      <td>Morning</td>\n",
       "    </tr>\n",
       "  </tbody>\n",
       "</table>\n",
       "</div>"
      ],
      "text/plain": [
       "            trip_id  trip_duration_seconds  ...                time   period\n",
       "index                                       ...                             \n",
       "2018-12-31  4580270                    251  ... 2018-12-31 11:58:00  Morning\n",
       "2018-12-31  4580271                    323  ... 2018-12-31 11:58:00  Morning\n",
       "2018-12-31  4580272                    923  ... 2018-12-31 11:58:00  Morning\n",
       "2018-12-31  4580273                    328  ... 2018-12-31 11:59:00  Morning\n",
       "2018-12-31  4580274                    266  ... 2018-12-31 11:59:00  Morning\n",
       "\n",
       "[5 rows x 11 columns]"
      ]
     },
     "execution_count": 15,
     "metadata": {
      "tags": []
     },
     "output_type": "execute_result"
    }
   ],
   "source": [
    "morning_bikers.tail()"
   ]
  },
  {
   "cell_type": "code",
   "execution_count": 16,
   "metadata": {
    "colab": {
     "base_uri": "https://localhost:8080/",
     "height": 34
    },
    "id": "BcF2FSm1HeAW",
    "outputId": "716659c1-d772-45fd-fad3-7aa6ae4c729f"
   },
   "outputs": [
    {
     "data": {
      "text/plain": [
       "(447461, 11)"
      ]
     },
     "execution_count": 16,
     "metadata": {
      "tags": []
     },
     "output_type": "execute_result"
    }
   ],
   "source": [
    "morning_bikers.shape"
   ]
  },
  {
   "cell_type": "code",
   "execution_count": 17,
   "metadata": {
    "id": "M-r1mr4VIBKd"
   },
   "outputs": [],
   "source": [
    "evening_bikers = data[data['period'].str.contains('Evening', regex=False)]"
   ]
  },
  {
   "cell_type": "code",
   "execution_count": 18,
   "metadata": {
    "colab": {
     "base_uri": "https://localhost:8080/",
     "height": 393
    },
    "id": "yXa9hCx5JLIw",
    "outputId": "8e236f1e-c5fb-495d-a05c-15acd72647c2"
   },
   "outputs": [
    {
     "data": {
      "text/html": [
       "<div>\n",
       "<style scoped>\n",
       "    .dataframe tbody tr th:only-of-type {\n",
       "        vertical-align: middle;\n",
       "    }\n",
       "\n",
       "    .dataframe tbody tr th {\n",
       "        vertical-align: top;\n",
       "    }\n",
       "\n",
       "    .dataframe thead th {\n",
       "        text-align: right;\n",
       "    }\n",
       "</style>\n",
       "<table border=\"1\" class=\"dataframe\">\n",
       "  <thead>\n",
       "    <tr style=\"text-align: right;\">\n",
       "      <th></th>\n",
       "      <th>trip_id</th>\n",
       "      <th>trip_duration_seconds</th>\n",
       "      <th>from_station_id</th>\n",
       "      <th>trip_start_time</th>\n",
       "      <th>from_station_name</th>\n",
       "      <th>trip_stop_time</th>\n",
       "      <th>to_station_id</th>\n",
       "      <th>to_station_name</th>\n",
       "      <th>user_type</th>\n",
       "      <th>time</th>\n",
       "      <th>period</th>\n",
       "    </tr>\n",
       "    <tr>\n",
       "      <th>index</th>\n",
       "      <th></th>\n",
       "      <th></th>\n",
       "      <th></th>\n",
       "      <th></th>\n",
       "      <th></th>\n",
       "      <th></th>\n",
       "      <th></th>\n",
       "      <th></th>\n",
       "      <th></th>\n",
       "      <th></th>\n",
       "      <th></th>\n",
       "    </tr>\n",
       "  </thead>\n",
       "  <tbody>\n",
       "    <tr>\n",
       "      <th>2018-01-01</th>\n",
       "      <td>2383884</td>\n",
       "      <td>351</td>\n",
       "      <td>7027</td>\n",
       "      <td>1/1/2018 16:05</td>\n",
       "      <td>Beverley  St / Dundas St W</td>\n",
       "      <td>1/1/2018 16:10</td>\n",
       "      <td>7049</td>\n",
       "      <td>Queen St W / Portland St</td>\n",
       "      <td>Annual Member</td>\n",
       "      <td>2018-01-01 16:05:00</td>\n",
       "      <td>Evening</td>\n",
       "    </tr>\n",
       "    <tr>\n",
       "      <th>2018-01-01</th>\n",
       "      <td>2383885</td>\n",
       "      <td>212</td>\n",
       "      <td>7044</td>\n",
       "      <td>1/1/2018 16:09</td>\n",
       "      <td>Church St / Alexander St</td>\n",
       "      <td>1/1/2018 16:13</td>\n",
       "      <td>7164</td>\n",
       "      <td>Gould St / Yonge St (Ryerson University)</td>\n",
       "      <td>Annual Member</td>\n",
       "      <td>2018-01-01 16:09:00</td>\n",
       "      <td>Evening</td>\n",
       "    </tr>\n",
       "    <tr>\n",
       "      <th>2018-01-01</th>\n",
       "      <td>2383886</td>\n",
       "      <td>131</td>\n",
       "      <td>7030</td>\n",
       "      <td>1/1/2018 16:13</td>\n",
       "      <td>Bay St / Wellesley St W</td>\n",
       "      <td>1/1/2018 16:15</td>\n",
       "      <td>7235</td>\n",
       "      <td>Bay St / College St (West Side) - SMART</td>\n",
       "      <td>Annual Member</td>\n",
       "      <td>2018-01-01 16:13:00</td>\n",
       "      <td>Evening</td>\n",
       "    </tr>\n",
       "    <tr>\n",
       "      <th>2018-01-01</th>\n",
       "      <td>2383887</td>\n",
       "      <td>611</td>\n",
       "      <td>7251</td>\n",
       "      <td>1/1/2018 16:16</td>\n",
       "      <td>The Royal Ontario Museum (Bloor St Entrance)</td>\n",
       "      <td>1/1/2018 16:26</td>\n",
       "      <td>7040</td>\n",
       "      <td>Euclid Ave / Bloor St W</td>\n",
       "      <td>Annual Member</td>\n",
       "      <td>2018-01-01 16:16:00</td>\n",
       "      <td>Evening</td>\n",
       "    </tr>\n",
       "    <tr>\n",
       "      <th>2018-01-01</th>\n",
       "      <td>2383888</td>\n",
       "      <td>1199</td>\n",
       "      <td>7049</td>\n",
       "      <td>1/1/2018 16:17</td>\n",
       "      <td>Queen St W / Portland St</td>\n",
       "      <td>1/1/2018 16:37</td>\n",
       "      <td>7027</td>\n",
       "      <td>Beverley  St / Dundas St W</td>\n",
       "      <td>Annual Member</td>\n",
       "      <td>2018-01-01 16:17:00</td>\n",
       "      <td>Evening</td>\n",
       "    </tr>\n",
       "  </tbody>\n",
       "</table>\n",
       "</div>"
      ],
      "text/plain": [
       "            trip_id  trip_duration_seconds  ...                time   period\n",
       "index                                       ...                             \n",
       "2018-01-01  2383884                    351  ... 2018-01-01 16:05:00  Evening\n",
       "2018-01-01  2383885                    212  ... 2018-01-01 16:09:00  Evening\n",
       "2018-01-01  2383886                    131  ... 2018-01-01 16:13:00  Evening\n",
       "2018-01-01  2383887                    611  ... 2018-01-01 16:16:00  Evening\n",
       "2018-01-01  2383888                   1199  ... 2018-01-01 16:17:00  Evening\n",
       "\n",
       "[5 rows x 11 columns]"
      ]
     },
     "execution_count": 18,
     "metadata": {
      "tags": []
     },
     "output_type": "execute_result"
    }
   ],
   "source": [
    "evening_bikers.head()"
   ]
  },
  {
   "cell_type": "code",
   "execution_count": 19,
   "metadata": {
    "colab": {
     "base_uri": "https://localhost:8080/",
     "height": 309
    },
    "id": "giSwbfuOJo0z",
    "outputId": "d3a02981-b386-453e-fbde-51761f9d53b2"
   },
   "outputs": [
    {
     "data": {
      "text/html": [
       "<div>\n",
       "<style scoped>\n",
       "    .dataframe tbody tr th:only-of-type {\n",
       "        vertical-align: middle;\n",
       "    }\n",
       "\n",
       "    .dataframe tbody tr th {\n",
       "        vertical-align: top;\n",
       "    }\n",
       "\n",
       "    .dataframe thead th {\n",
       "        text-align: right;\n",
       "    }\n",
       "</style>\n",
       "<table border=\"1\" class=\"dataframe\">\n",
       "  <thead>\n",
       "    <tr style=\"text-align: right;\">\n",
       "      <th></th>\n",
       "      <th>trip_id</th>\n",
       "      <th>trip_duration_seconds</th>\n",
       "      <th>from_station_id</th>\n",
       "      <th>trip_start_time</th>\n",
       "      <th>from_station_name</th>\n",
       "      <th>trip_stop_time</th>\n",
       "      <th>to_station_id</th>\n",
       "      <th>to_station_name</th>\n",
       "      <th>user_type</th>\n",
       "      <th>time</th>\n",
       "      <th>period</th>\n",
       "    </tr>\n",
       "    <tr>\n",
       "      <th>index</th>\n",
       "      <th></th>\n",
       "      <th></th>\n",
       "      <th></th>\n",
       "      <th></th>\n",
       "      <th></th>\n",
       "      <th></th>\n",
       "      <th></th>\n",
       "      <th></th>\n",
       "      <th></th>\n",
       "      <th></th>\n",
       "      <th></th>\n",
       "    </tr>\n",
       "  </thead>\n",
       "  <tbody>\n",
       "    <tr>\n",
       "      <th>2018-12-31</th>\n",
       "      <td>4581220</td>\n",
       "      <td>584</td>\n",
       "      <td>7113</td>\n",
       "      <td>12/31/2018 19:36</td>\n",
       "      <td>Parliament St / Aberdeen Ave</td>\n",
       "      <td>12/31/2018 19:46</td>\n",
       "      <td>7337</td>\n",
       "      <td>Gerrard Square Mall (1010 Gerrard St E)</td>\n",
       "      <td>Annual Member</td>\n",
       "      <td>2018-12-31 19:36:00</td>\n",
       "      <td>Evening</td>\n",
       "    </tr>\n",
       "    <tr>\n",
       "      <th>2018-12-31</th>\n",
       "      <td>4581221</td>\n",
       "      <td>1325</td>\n",
       "      <td>7076</td>\n",
       "      <td>12/31/2018 19:38</td>\n",
       "      <td>York St / Queens Quay W</td>\n",
       "      <td>12/31/2018 20:00</td>\n",
       "      <td>7177</td>\n",
       "      <td>East Liberty St / Pirandello St</td>\n",
       "      <td>Annual Member</td>\n",
       "      <td>2018-12-31 19:38:00</td>\n",
       "      <td>Evening</td>\n",
       "    </tr>\n",
       "    <tr>\n",
       "      <th>2018-12-31</th>\n",
       "      <td>4581222</td>\n",
       "      <td>730</td>\n",
       "      <td>7154</td>\n",
       "      <td>12/31/2018 19:51</td>\n",
       "      <td>Bathurst Subway Station</td>\n",
       "      <td>12/31/2018 20:03</td>\n",
       "      <td>7046</td>\n",
       "      <td>Niagara St / Richmond St W</td>\n",
       "      <td>Annual Member</td>\n",
       "      <td>2018-12-31 19:51:00</td>\n",
       "      <td>Evening</td>\n",
       "    </tr>\n",
       "    <tr>\n",
       "      <th>2018-12-31</th>\n",
       "      <td>4581223</td>\n",
       "      <td>499</td>\n",
       "      <td>7069</td>\n",
       "      <td>12/31/2018 19:55</td>\n",
       "      <td>Queen St W / Spadina Ave</td>\n",
       "      <td>12/31/2018 20:03</td>\n",
       "      <td>7235</td>\n",
       "      <td>Bay St / College St (West Side) - SMART</td>\n",
       "      <td>Annual Member</td>\n",
       "      <td>2018-12-31 19:55:00</td>\n",
       "      <td>Evening</td>\n",
       "    </tr>\n",
       "    <tr>\n",
       "      <th>2018-12-31</th>\n",
       "      <td>4581224</td>\n",
       "      <td>500</td>\n",
       "      <td>7027</td>\n",
       "      <td>12/31/2018 19:58</td>\n",
       "      <td>Beverley  St / Dundas St W</td>\n",
       "      <td>12/31/2018 20:06</td>\n",
       "      <td>7023</td>\n",
       "      <td>College St / Borden St</td>\n",
       "      <td>Annual Member</td>\n",
       "      <td>2018-12-31 19:58:00</td>\n",
       "      <td>Evening</td>\n",
       "    </tr>\n",
       "  </tbody>\n",
       "</table>\n",
       "</div>"
      ],
      "text/plain": [
       "            trip_id  trip_duration_seconds  ...                time   period\n",
       "index                                       ...                             \n",
       "2018-12-31  4581220                    584  ... 2018-12-31 19:36:00  Evening\n",
       "2018-12-31  4581221                   1325  ... 2018-12-31 19:38:00  Evening\n",
       "2018-12-31  4581222                    730  ... 2018-12-31 19:51:00  Evening\n",
       "2018-12-31  4581223                    499  ... 2018-12-31 19:55:00  Evening\n",
       "2018-12-31  4581224                    500  ... 2018-12-31 19:58:00  Evening\n",
       "\n",
       "[5 rows x 11 columns]"
      ]
     },
     "execution_count": 19,
     "metadata": {
      "tags": []
     },
     "output_type": "execute_result"
    }
   ],
   "source": [
    "evening_bikers.tail()"
   ]
  },
  {
   "cell_type": "code",
   "execution_count": 20,
   "metadata": {
    "colab": {
     "base_uri": "https://localhost:8080/",
     "height": 34
    },
    "id": "6KcEqGPEJNo0",
    "outputId": "876aad3a-edb0-4d1a-d9a6-8a4d99f1583f"
   },
   "outputs": [
    {
     "data": {
      "text/plain": [
       "(670633, 11)"
      ]
     },
     "execution_count": 20,
     "metadata": {
      "tags": []
     },
     "output_type": "execute_result"
    }
   ],
   "source": [
    "evening_bikers.shape"
   ]
  },
  {
   "cell_type": "markdown",
   "metadata": {
    "id": "Wpb74F2_HQ-D"
   },
   "source": [
    "Biker Direction : One-Way or Two-Way"
   ]
  },
  {
   "cell_type": "code",
   "execution_count": 21,
   "metadata": {
    "id": "dgVLQY_IJTMt"
   },
   "outputs": [],
   "source": [
    "route_morning = morning_bikers\n",
    "route_morning = route_morning[['from_station_name', 'to_station_name']]"
   ]
  },
  {
   "cell_type": "code",
   "execution_count": 22,
   "metadata": {
    "id": "n-uEBlFqKaHo"
   },
   "outputs": [],
   "source": [
    "twoway_morning = route_morning.copy()\n",
    "twoway_morning = twoway_morning[twoway_morning.from_station_name == twoway_morning.to_station_name]\n",
    "oneway_morning = route_morning.copy()\n",
    "oneway_morning = oneway_morning[oneway_morning.from_station_name != oneway_morning.to_station_name]"
   ]
  },
  {
   "cell_type": "code",
   "execution_count": 23,
   "metadata": {
    "colab": {
     "base_uri": "https://localhost:8080/",
     "height": 34
    },
    "id": "w-_WQT5EKaU9",
    "outputId": "541e4e65-521e-4de0-cca6-827ad12b1122"
   },
   "outputs": [
    {
     "data": {
      "text/plain": [
       "(8080, 2)"
      ]
     },
     "execution_count": 23,
     "metadata": {
      "tags": []
     },
     "output_type": "execute_result"
    }
   ],
   "source": [
    "twoway_morning.shape"
   ]
  },
  {
   "cell_type": "code",
   "execution_count": 24,
   "metadata": {
    "colab": {
     "base_uri": "https://localhost:8080/",
     "height": 0
    },
    "id": "gnpUNEWoTWxx",
    "outputId": "3bed54d2-fe70-4724-fc59-5ccff447b2a5"
   },
   "outputs": [
    {
     "data": {
      "text/plain": [
       "1.81"
      ]
     },
     "execution_count": 24,
     "metadata": {
      "tags": []
     },
     "output_type": "execute_result"
    }
   ],
   "source": [
    "twoway_morning_percent = ((twoway_morning['from_station_name'].count() / (twoway_morning['from_station_name'].count() + oneway_morning['from_station_name'].count()))*100).round(2)\n",
    "twoway_morning_percent"
   ]
  },
  {
   "cell_type": "code",
   "execution_count": 25,
   "metadata": {
    "colab": {
     "base_uri": "https://localhost:8080/",
     "height": 0
    },
    "id": "vKVPiRnnKaes",
    "outputId": "212213db-3385-4758-8818-af9a0616427a"
   },
   "outputs": [
    {
     "data": {
      "text/plain": [
       "(439381, 2)"
      ]
     },
     "execution_count": 25,
     "metadata": {
      "tags": []
     },
     "output_type": "execute_result"
    }
   ],
   "source": [
    "oneway_morning.shape"
   ]
  },
  {
   "cell_type": "code",
   "execution_count": 26,
   "metadata": {
    "colab": {
     "base_uri": "https://localhost:8080/",
     "height": 0
    },
    "id": "5wyGr7K6T9Lb",
    "outputId": "c8d52297-b919-4238-c0ed-e26cb3b12611"
   },
   "outputs": [
    {
     "data": {
      "text/plain": [
       "98.19"
      ]
     },
     "execution_count": 26,
     "metadata": {
      "tags": []
     },
     "output_type": "execute_result"
    }
   ],
   "source": [
    "oneway_morning_percent = ((oneway_morning['from_station_name'].count() / (twoway_morning['from_station_name'].count() + oneway_morning['from_station_name'].count()))*100).round(2)\n",
    "oneway_morning_percent"
   ]
  },
  {
   "cell_type": "code",
   "execution_count": 27,
   "metadata": {
    "id": "qYSuoAGKLxfR"
   },
   "outputs": [],
   "source": [
    "route_evening = evening_bikers\n",
    "route_evening = route_evening[['from_station_name', 'to_station_name']]"
   ]
  },
  {
   "cell_type": "code",
   "execution_count": 28,
   "metadata": {
    "id": "4QUDhqP2MO-Z"
   },
   "outputs": [],
   "source": [
    "twoway_evening = route_evening.copy()\n",
    "twoway_evening = twoway_evening[twoway_evening.from_station_name == twoway_evening.to_station_name]\n",
    "oneway_evening = route_evening.copy()\n",
    "oneway_evening = oneway_evening[oneway_evening.from_station_name != oneway_evening.to_station_name]"
   ]
  },
  {
   "cell_type": "code",
   "execution_count": 29,
   "metadata": {
    "colab": {
     "base_uri": "https://localhost:8080/",
     "height": 34
    },
    "id": "3pjrJuapMPHe",
    "outputId": "372778b0-ffbe-453d-d779-5c237a2d6937"
   },
   "outputs": [
    {
     "data": {
      "text/plain": [
       "(19713, 2)"
      ]
     },
     "execution_count": 29,
     "metadata": {
      "tags": []
     },
     "output_type": "execute_result"
    }
   ],
   "source": [
    "twoway_evening.shape"
   ]
  },
  {
   "cell_type": "code",
   "execution_count": 30,
   "metadata": {
    "colab": {
     "base_uri": "https://localhost:8080/",
     "height": 34
    },
    "id": "Sna_A9-mUXpd",
    "outputId": "afec2be8-0389-4490-9094-ca4c747502e2"
   },
   "outputs": [
    {
     "data": {
      "text/plain": [
       "2.94"
      ]
     },
     "execution_count": 30,
     "metadata": {
      "tags": []
     },
     "output_type": "execute_result"
    }
   ],
   "source": [
    "twoway_evening_percent = ((twoway_evening['from_station_name'].count() / (twoway_evening['from_station_name'].count() + oneway_evening['from_station_name'].count()))*100).round(2)\n",
    "twoway_evening_percent"
   ]
  },
  {
   "cell_type": "code",
   "execution_count": 31,
   "metadata": {
    "colab": {
     "base_uri": "https://localhost:8080/",
     "height": 34
    },
    "id": "-OA6GUeFMPRs",
    "outputId": "968d8ac6-8b0a-494f-c5be-f400e9260f77"
   },
   "outputs": [
    {
     "data": {
      "text/plain": [
       "(650920, 2)"
      ]
     },
     "execution_count": 31,
     "metadata": {
      "tags": []
     },
     "output_type": "execute_result"
    }
   ],
   "source": [
    "oneway_evening.shape"
   ]
  },
  {
   "cell_type": "code",
   "execution_count": 32,
   "metadata": {
    "colab": {
     "base_uri": "https://localhost:8080/",
     "height": 34
    },
    "id": "GqXrZrnjUd9b",
    "outputId": "c7f07c10-2902-4030-e928-dbf76b3a0573"
   },
   "outputs": [
    {
     "data": {
      "text/plain": [
       "97.06"
      ]
     },
     "execution_count": 32,
     "metadata": {
      "tags": []
     },
     "output_type": "execute_result"
    }
   ],
   "source": [
    "oneway_evening_percent = ((oneway_evening['from_station_name'].count() / (twoway_evening['from_station_name'].count() + oneway_evening['from_station_name'].count()))*100).round(2)\n",
    "oneway_evening_percent"
   ]
  },
  {
   "cell_type": "code",
   "execution_count": 33,
   "metadata": {
    "id": "MUVCJdT2acQI"
   },
   "outputs": [],
   "source": [
    "bike_all = {'Morning': [oneway_morning_percent, twoway_morning_percent],\n",
    "        'Evening': [oneway_evening_percent, twoway_evening_percent]\n",
    "        }"
   ]
  },
  {
   "cell_type": "code",
   "execution_count": 34,
   "metadata": {
    "colab": {
     "base_uri": "https://localhost:8080/",
     "height": 67
    },
    "id": "MVwKtC1Gdk7n",
    "outputId": "50f47073-488c-4fdc-c299-ae760f7e3bed"
   },
   "outputs": [
    {
     "name": "stdout",
     "output_type": "stream",
     "text": [
      "                     Morning  Evening\n",
      "One-Way Traveler(%)    98.19    97.06\n",
      "Two-Way Traveler(%)     1.81     2.94\n"
     ]
    }
   ],
   "source": [
    "df = pd.DataFrame(bike_all, columns = ['Morning','Evening'], index=['One-Way Traveler(%)','Two-Way Traveler(%)'])\n",
    "print(df)"
   ]
  },
  {
   "cell_type": "code",
   "execution_count": 35,
   "metadata": {
    "colab": {
     "base_uri": "https://localhost:8080/",
     "height": 504
    },
    "id": "qbEmCdgWaOep",
    "outputId": "d43dd096-6809-4140-bd5b-8dc22ee22f88"
   },
   "outputs": [
    {
     "data": {
      "image/png": "[encoded data removed]",
      "text/plain": [
       "<Figure size 720x576 with 1 Axes>"
      ]
     },
     "metadata": {
      "needs_background": "light",
      "tags": []
     },
     "output_type": "display_data"
    }
   ],
   "source": [
    "ax = df.plot.barh(stacked=False, figsize= (10,8), color=['#EFD9A6', '#B9A41D'])\n",
    "ax.set_title(\"Traveler Direction Morning vs Evening\", size=20)\n",
    "\n",
    "for p in ax.patches:\n",
    "    left, bottom, width, height = p.get_bbox().bounds\n",
    "    ax.annotate(str(width), xy=(left+width/2, bottom+height/2), \n",
    "                horizontalalignment='left', verticalalignment='center')"
   ]
  },
  {
   "cell_type": "code",
   "execution_count": 36,
   "metadata": {
    "colab": {
     "base_uri": "https://localhost:8080/",
     "height": 242
    },
    "id": "koXcdLfvkn7S",
    "outputId": "c27a7b3d-ff2a-4052-b1ce-4b3c4098c5ef"
   },
   "outputs": [
    {
     "name": "stdout",
     "output_type": "stream",
     "text": [
      "5 Stations with the Highest Number of Two-Way Traveller - Morning\n"
     ]
    },
    {
     "data": {
      "text/html": [
       "<div>\n",
       "<style scoped>\n",
       "    .dataframe tbody tr th:only-of-type {\n",
       "        vertical-align: middle;\n",
       "    }\n",
       "\n",
       "    .dataframe tbody tr th {\n",
       "        vertical-align: top;\n",
       "    }\n",
       "\n",
       "    .dataframe thead th {\n",
       "        text-align: right;\n",
       "    }\n",
       "</style>\n",
       "<table border=\"1\" class=\"dataframe\">\n",
       "  <thead>\n",
       "    <tr style=\"text-align: right;\">\n",
       "      <th></th>\n",
       "      <th>to_station_name</th>\n",
       "    </tr>\n",
       "    <tr>\n",
       "      <th>from_station_name</th>\n",
       "      <th></th>\n",
       "    </tr>\n",
       "  </thead>\n",
       "  <tbody>\n",
       "    <tr>\n",
       "      <th>Bay St / Queens Quay W (Ferry Terminal)</th>\n",
       "      <td>564</td>\n",
       "    </tr>\n",
       "    <tr>\n",
       "      <th>Humber Bay Shores Park West</th>\n",
       "      <td>350</td>\n",
       "    </tr>\n",
       "    <tr>\n",
       "      <th>York St / Queens Quay W</th>\n",
       "      <td>289</td>\n",
       "    </tr>\n",
       "    <tr>\n",
       "      <th>Tommy Thompson Park (Leslie Street Spit)</th>\n",
       "      <td>272</td>\n",
       "    </tr>\n",
       "    <tr>\n",
       "      <th>Lakeshore Blvd W / Windermere Ave</th>\n",
       "      <td>225</td>\n",
       "    </tr>\n",
       "  </tbody>\n",
       "</table>\n",
       "</div>"
      ],
      "text/plain": [
       "                                          to_station_name\n",
       "from_station_name                                        \n",
       "Bay St / Queens Quay W (Ferry Terminal)               564\n",
       "Humber Bay Shores Park West                           350\n",
       "York St / Queens Quay W                               289\n",
       "Tommy Thompson Park (Leslie Street Spit)              272\n",
       "Lakeshore Blvd W / Windermere Ave                     225"
      ]
     },
     "execution_count": 36,
     "metadata": {
      "tags": []
     },
     "output_type": "execute_result"
    }
   ],
   "source": [
    "twoway_map_morning = twoway_morning.groupby('from_station_name').count().sort_values(by='to_station_name', ascending=False)\n",
    "print('5 Stations with the Highest Number of Two-Way Traveller - Morning')\n",
    "twoway_map_morning[:5]"
   ]
  },
  {
   "cell_type": "code",
   "execution_count": 37,
   "metadata": {
    "colab": {
     "base_uri": "https://localhost:8080/",
     "height": 242
    },
    "id": "VpbYuDojlNjF",
    "outputId": "97ae1b2d-ee39-450d-d9c5-a4a630a0a9e1"
   },
   "outputs": [
    {
     "name": "stdout",
     "output_type": "stream",
     "text": [
      "5 Stations with the Highest Number of Two-Way Traveller - Evening\n"
     ]
    },
    {
     "data": {
      "text/html": [
       "<div>\n",
       "<style scoped>\n",
       "    .dataframe tbody tr th:only-of-type {\n",
       "        vertical-align: middle;\n",
       "    }\n",
       "\n",
       "    .dataframe tbody tr th {\n",
       "        vertical-align: top;\n",
       "    }\n",
       "\n",
       "    .dataframe thead th {\n",
       "        text-align: right;\n",
       "    }\n",
       "</style>\n",
       "<table border=\"1\" class=\"dataframe\">\n",
       "  <thead>\n",
       "    <tr style=\"text-align: right;\">\n",
       "      <th></th>\n",
       "      <th>to_station_name</th>\n",
       "    </tr>\n",
       "    <tr>\n",
       "      <th>from_station_name</th>\n",
       "      <th></th>\n",
       "    </tr>\n",
       "  </thead>\n",
       "  <tbody>\n",
       "    <tr>\n",
       "      <th>Bay St / Queens Quay W (Ferry Terminal)</th>\n",
       "      <td>1129</td>\n",
       "    </tr>\n",
       "    <tr>\n",
       "      <th>Humber Bay Shores Park West</th>\n",
       "      <td>794</td>\n",
       "    </tr>\n",
       "    <tr>\n",
       "      <th>Ontario Place Blvd / Lakeshore Blvd W</th>\n",
       "      <td>711</td>\n",
       "    </tr>\n",
       "    <tr>\n",
       "      <th>Lakeshore Blvd W / Ellis Ave</th>\n",
       "      <td>707</td>\n",
       "    </tr>\n",
       "    <tr>\n",
       "      <th>HTO Park (Queens Quay W)</th>\n",
       "      <td>691</td>\n",
       "    </tr>\n",
       "  </tbody>\n",
       "</table>\n",
       "</div>"
      ],
      "text/plain": [
       "                                         to_station_name\n",
       "from_station_name                                       \n",
       "Bay St / Queens Quay W (Ferry Terminal)             1129\n",
       "Humber Bay Shores Park West                          794\n",
       "Ontario Place Blvd / Lakeshore Blvd W                711\n",
       "Lakeshore Blvd W / Ellis Ave                         707\n",
       "HTO Park (Queens Quay W)                             691"
      ]
     },
     "execution_count": 37,
     "metadata": {
      "tags": []
     },
     "output_type": "execute_result"
    }
   ],
   "source": [
    "twoway_map_evening = twoway_evening.groupby('from_station_name').count().sort_values(by='to_station_name', ascending=False)\n",
    "print('5 Stations with the Highest Number of Two-Way Traveller - Evening')\n",
    "twoway_map_evening[:5]"
   ]
  },
  {
   "cell_type": "markdown",
   "metadata": {
    "id": "Tq4qP8o_mvFj"
   },
   "source": [
    "### **2. Find out what percentage of bikes are returned to its initial location?**"
   ]
  },
  {
   "cell_type": "code",
   "execution_count": 38,
   "metadata": {
    "id": "6yqpvKMklwHX"
   },
   "outputs": [],
   "source": [
    "route = data\n",
    "route = data[['from_station_name', 'to_station_name']]"
   ]
  },
  {
   "cell_type": "code",
   "execution_count": 39,
   "metadata": {
    "id": "hJ9S16nTm9ht"
   },
   "outputs": [],
   "source": [
    "twoway = route.copy()\n",
    "twoway = twoway[twoway.from_station_name == twoway.to_station_name]\n",
    "oneway = route.copy()\n",
    "oneway = oneway[oneway.from_station_name != oneway.to_station_name]"
   ]
  },
  {
   "cell_type": "code",
   "execution_count": 40,
   "metadata": {
    "colab": {
     "base_uri": "https://localhost:8080/",
     "height": 34
    },
    "id": "o7LCkJAMm-03",
    "outputId": "3bb73480-a892-4d01-ad3a-9707cbaf2ae1"
   },
   "outputs": [
    {
     "data": {
      "text/plain": [
       "2.98"
      ]
     },
     "execution_count": 40,
     "metadata": {
      "tags": []
     },
     "output_type": "execute_result"
    }
   ],
   "source": [
    "twoway_percent = ((twoway['from_station_name'].count() / (twoway['from_station_name'].count() + oneway['from_station_name'].count()))*100).round(2)\n",
    "twoway_percent"
   ]
  },
  {
   "cell_type": "code",
   "execution_count": 41,
   "metadata": {
    "colab": {
     "base_uri": "https://localhost:8080/",
     "height": 34
    },
    "id": "tINUEX50m_35",
    "outputId": "f19f85e0-ece4-4d67-da35-1a54aee80fc9"
   },
   "outputs": [
    {
     "data": {
      "text/plain": [
       "97.02"
      ]
     },
     "execution_count": 41,
     "metadata": {
      "tags": []
     },
     "output_type": "execute_result"
    }
   ],
   "source": [
    "oneway_percent = ((oneway['from_station_name'].count() / (twoway['from_station_name'].count() + oneway['from_station_name'].count()))*100).round(2)\n",
    "oneway_percent"
   ]
  },
  {
   "cell_type": "code",
   "execution_count": 42,
   "metadata": {
    "colab": {
     "base_uri": "https://localhost:8080/",
     "height": 269
    },
    "id": "1eFu6mjrnBEH",
    "outputId": "d81bc891-5bbd-4dd2-f2e6-2153b6548f86"
   },
   "outputs": [
    {
     "data": {
      "image/png": "[encoded data removed]",
      "text/plain": [
       "<Figure size 432x288 with 1 Axes>"
      ]
     },
     "metadata": {
      "tags": []
     },
     "output_type": "display_data"
    }
   ],
   "source": [
    "# Pie chart, where the slices will be ordered and plotted counter-clockwise:\n",
    "labels = 'Not Returned', 'Returned'\n",
    "sizes = [oneway_percent, twoway_percent]\n",
    "colors = [\"#EFD9A6\", \"#B9A41D\"]\n",
    "\n",
    "fig1, ax1 = plt.subplots()\n",
    "ax1.pie(sizes, labels=labels, colors=colors, autopct='%1.2f%%', startangle=180)\n",
    "ax1.axis('equal')  # Equal aspect ratio ensures that pie is drawn as a circle.\n",
    "\n",
    "plt.title(\"Bike Returned to Initial Location\", loc=\"center\", size=20)\n",
    "plt.show()"
   ]
  },
  {
   "cell_type": "markdown",
   "metadata": {
    "id": "NMV1Qx-QsL7s"
   },
   "source": [
    "### **3. What time is the busy time in a day?**"
   ]
  },
  {
   "cell_type": "code",
   "execution_count": 94,
   "metadata": {
    "colab": {
     "base_uri": "https://localhost:8080/",
     "height": 1000
    },
    "id": "98BycxFYyPvT",
    "outputId": "273178bc-492e-4b2e-c2ce-f1cf14883db3"
   },
   "outputs": [
    {
     "data": {
      "text/html": [
       "<div>\n",
       "<style scoped>\n",
       "    .dataframe tbody tr th:only-of-type {\n",
       "        vertical-align: middle;\n",
       "    }\n",
       "\n",
       "    .dataframe tbody tr th {\n",
       "        vertical-align: top;\n",
       "    }\n",
       "\n",
       "    .dataframe thead th {\n",
       "        text-align: right;\n",
       "    }\n",
       "</style>\n",
       "<table border=\"1\" class=\"dataframe\">\n",
       "  <thead>\n",
       "    <tr style=\"text-align: right;\">\n",
       "      <th></th>\n",
       "      <th>trip_id</th>\n",
       "      <th>trip_duration_seconds</th>\n",
       "      <th>from_station_id</th>\n",
       "      <th>trip_start_time</th>\n",
       "      <th>from_station_name</th>\n",
       "      <th>trip_stop_time</th>\n",
       "      <th>to_station_id</th>\n",
       "      <th>to_station_name</th>\n",
       "      <th>user_type</th>\n",
       "      <th>time</th>\n",
       "      <th>period</th>\n",
       "      <th>duration_min</th>\n",
       "      <th>hour_start</th>\n",
       "      <th>month_start</th>\n",
       "      <th>weekday_start</th>\n",
       "      <th>route</th>\n",
       "      <th>Date</th>\n",
       "      <th>Quarter</th>\n",
       "      <th>Month</th>\n",
       "      <th>Day of Week</th>\n",
       "      <th>Hour</th>\n",
       "    </tr>\n",
       "    <tr>\n",
       "      <th>index</th>\n",
       "      <th></th>\n",
       "      <th></th>\n",
       "      <th></th>\n",
       "      <th></th>\n",
       "      <th></th>\n",
       "      <th></th>\n",
       "      <th></th>\n",
       "      <th></th>\n",
       "      <th></th>\n",
       "      <th></th>\n",
       "      <th></th>\n",
       "      <th></th>\n",
       "      <th></th>\n",
       "      <th></th>\n",
       "      <th></th>\n",
       "      <th></th>\n",
       "      <th></th>\n",
       "      <th></th>\n",
       "      <th></th>\n",
       "      <th></th>\n",
       "      <th></th>\n",
       "    </tr>\n",
       "  </thead>\n",
       "  <tbody>\n",
       "    <tr>\n",
       "      <th>2018-01-01</th>\n",
       "      <td>2383648</td>\n",
       "      <td>393</td>\n",
       "      <td>7018</td>\n",
       "      <td>2018-01-01 00:47:00</td>\n",
       "      <td>Bremner Blvd / Rees St</td>\n",
       "      <td>2018-01-01 00:54:00</td>\n",
       "      <td>7176</td>\n",
       "      <td>Bathurst St / Fort York Blvd</td>\n",
       "      <td>Annual Member</td>\n",
       "      <td>2018-01-01 00:47:00</td>\n",
       "      <td>Late Night</td>\n",
       "      <td>7.0</td>\n",
       "      <td>0</td>\n",
       "      <td>Jan</td>\n",
       "      <td>Mon</td>\n",
       "      <td>Bremner Blvd / Rees St to Bathurst St / Fort Y...</td>\n",
       "      <td>2018-01-01</td>\n",
       "      <td>1</td>\n",
       "      <td>January</td>\n",
       "      <td>Mon</td>\n",
       "      <td>0</td>\n",
       "    </tr>\n",
       "    <tr>\n",
       "      <th>2018-01-01</th>\n",
       "      <td>2383649</td>\n",
       "      <td>625</td>\n",
       "      <td>7184</td>\n",
       "      <td>2018-01-01 00:52:00</td>\n",
       "      <td>Ossington Ave / College St</td>\n",
       "      <td>2018-01-01 01:03:00</td>\n",
       "      <td>7191</td>\n",
       "      <td>Central Tech  (Harbord St)</td>\n",
       "      <td>Annual Member</td>\n",
       "      <td>2018-01-01 00:52:00</td>\n",
       "      <td>Late Night</td>\n",
       "      <td>10.0</td>\n",
       "      <td>0</td>\n",
       "      <td>Jan</td>\n",
       "      <td>Mon</td>\n",
       "      <td>Ossington Ave / College St to Central Tech  (H...</td>\n",
       "      <td>2018-01-01</td>\n",
       "      <td>1</td>\n",
       "      <td>January</td>\n",
       "      <td>Mon</td>\n",
       "      <td>0</td>\n",
       "    </tr>\n",
       "    <tr>\n",
       "      <th>2018-01-01</th>\n",
       "      <td>2383650</td>\n",
       "      <td>233</td>\n",
       "      <td>7235</td>\n",
       "      <td>2018-01-01 00:55:00</td>\n",
       "      <td>Bay St / College St (West Side) - SMART</td>\n",
       "      <td>2018-01-01 00:59:00</td>\n",
       "      <td>7021</td>\n",
       "      <td>Bay St / Albert St</td>\n",
       "      <td>Annual Member</td>\n",
       "      <td>2018-01-01 00:55:00</td>\n",
       "      <td>Late Night</td>\n",
       "      <td>4.0</td>\n",
       "      <td>0</td>\n",
       "      <td>Jan</td>\n",
       "      <td>Mon</td>\n",
       "      <td>Bay St / College St (West Side) - SMART to Bay...</td>\n",
       "      <td>2018-01-01</td>\n",
       "      <td>1</td>\n",
       "      <td>January</td>\n",
       "      <td>Mon</td>\n",
       "      <td>0</td>\n",
       "    </tr>\n",
       "    <tr>\n",
       "      <th>2018-01-01</th>\n",
       "      <td>2383651</td>\n",
       "      <td>1138</td>\n",
       "      <td>7202</td>\n",
       "      <td>2018-01-01 00:57:00</td>\n",
       "      <td>Queen St W / York St (City Hall)</td>\n",
       "      <td>2018-01-01 01:16:00</td>\n",
       "      <td>7020</td>\n",
       "      <td>Phoebe St / Spadina Ave</td>\n",
       "      <td>Annual Member</td>\n",
       "      <td>2018-01-01 00:57:00</td>\n",
       "      <td>Late Night</td>\n",
       "      <td>19.0</td>\n",
       "      <td>0</td>\n",
       "      <td>Jan</td>\n",
       "      <td>Mon</td>\n",
       "      <td>Queen St W / York St (City Hall) to Phoebe St ...</td>\n",
       "      <td>2018-01-01</td>\n",
       "      <td>1</td>\n",
       "      <td>January</td>\n",
       "      <td>Mon</td>\n",
       "      <td>0</td>\n",
       "    </tr>\n",
       "    <tr>\n",
       "      <th>2018-01-01</th>\n",
       "      <td>2383652</td>\n",
       "      <td>703</td>\n",
       "      <td>7004</td>\n",
       "      <td>2018-01-01 01:00:00</td>\n",
       "      <td>University Ave / Elm St</td>\n",
       "      <td>2018-01-01 01:12:00</td>\n",
       "      <td>7060</td>\n",
       "      <td>Princess St / Adelaide St E</td>\n",
       "      <td>Annual Member</td>\n",
       "      <td>2018-01-01 01:00:00</td>\n",
       "      <td>Late Night</td>\n",
       "      <td>12.0</td>\n",
       "      <td>1</td>\n",
       "      <td>Jan</td>\n",
       "      <td>Mon</td>\n",
       "      <td>University Ave / Elm St to Princess St / Adela...</td>\n",
       "      <td>2018-01-01</td>\n",
       "      <td>1</td>\n",
       "      <td>January</td>\n",
       "      <td>Mon</td>\n",
       "      <td>1</td>\n",
       "    </tr>\n",
       "    <tr>\n",
       "      <th>2018-01-01</th>\n",
       "      <td>2383653</td>\n",
       "      <td>1026</td>\n",
       "      <td>7078</td>\n",
       "      <td>2018-01-01 01:07:00</td>\n",
       "      <td>College St / Major St</td>\n",
       "      <td>2018-01-01 01:24:00</td>\n",
       "      <td>7130</td>\n",
       "      <td>Pears Av / Avenue Rd</td>\n",
       "      <td>Annual Member</td>\n",
       "      <td>2018-01-01 01:07:00</td>\n",
       "      <td>Late Night</td>\n",
       "      <td>17.0</td>\n",
       "      <td>1</td>\n",
       "      <td>Jan</td>\n",
       "      <td>Mon</td>\n",
       "      <td>College St / Major St to Pears Av / Avenue Rd</td>\n",
       "      <td>2018-01-01</td>\n",
       "      <td>1</td>\n",
       "      <td>January</td>\n",
       "      <td>Mon</td>\n",
       "      <td>1</td>\n",
       "    </tr>\n",
       "    <tr>\n",
       "      <th>2018-01-01</th>\n",
       "      <td>2383654</td>\n",
       "      <td>274</td>\n",
       "      <td>7021</td>\n",
       "      <td>2018-01-01 01:33:00</td>\n",
       "      <td>Bay St / Albert St</td>\n",
       "      <td>2018-01-01 01:38:00</td>\n",
       "      <td>7033</td>\n",
       "      <td>Union Station</td>\n",
       "      <td>Annual Member</td>\n",
       "      <td>2018-01-01 01:33:00</td>\n",
       "      <td>Late Night</td>\n",
       "      <td>5.0</td>\n",
       "      <td>1</td>\n",
       "      <td>Jan</td>\n",
       "      <td>Mon</td>\n",
       "      <td>Bay St / Albert St to Union Station</td>\n",
       "      <td>2018-01-01</td>\n",
       "      <td>1</td>\n",
       "      <td>January</td>\n",
       "      <td>Mon</td>\n",
       "      <td>1</td>\n",
       "    </tr>\n",
       "    <tr>\n",
       "      <th>2018-01-01</th>\n",
       "      <td>2383655</td>\n",
       "      <td>764</td>\n",
       "      <td>7046</td>\n",
       "      <td>2018-01-01 01:34:00</td>\n",
       "      <td>Niagara St / Richmond St W</td>\n",
       "      <td>2018-01-01 01:47:00</td>\n",
       "      <td>7275</td>\n",
       "      <td>Queen St W / James St</td>\n",
       "      <td>Annual Member</td>\n",
       "      <td>2018-01-01 01:34:00</td>\n",
       "      <td>Late Night</td>\n",
       "      <td>13.0</td>\n",
       "      <td>1</td>\n",
       "      <td>Jan</td>\n",
       "      <td>Mon</td>\n",
       "      <td>Niagara St / Richmond St W to Queen St W / Jam...</td>\n",
       "      <td>2018-01-01</td>\n",
       "      <td>1</td>\n",
       "      <td>January</td>\n",
       "      <td>Mon</td>\n",
       "      <td>1</td>\n",
       "    </tr>\n",
       "    <tr>\n",
       "      <th>2018-01-01</th>\n",
       "      <td>2383657</td>\n",
       "      <td>237</td>\n",
       "      <td>7044</td>\n",
       "      <td>2018-01-01 01:37:00</td>\n",
       "      <td>Church St / Alexander St</td>\n",
       "      <td>2018-01-01 01:41:00</td>\n",
       "      <td>7028</td>\n",
       "      <td>Gould St / Mutual St</td>\n",
       "      <td>Annual Member</td>\n",
       "      <td>2018-01-01 01:37:00</td>\n",
       "      <td>Late Night</td>\n",
       "      <td>4.0</td>\n",
       "      <td>1</td>\n",
       "      <td>Jan</td>\n",
       "      <td>Mon</td>\n",
       "      <td>Church St / Alexander St to Gould St / Mutual St</td>\n",
       "      <td>2018-01-01</td>\n",
       "      <td>1</td>\n",
       "      <td>January</td>\n",
       "      <td>Mon</td>\n",
       "      <td>1</td>\n",
       "    </tr>\n",
       "    <tr>\n",
       "      <th>2018-01-01</th>\n",
       "      <td>2383658</td>\n",
       "      <td>180</td>\n",
       "      <td>7198</td>\n",
       "      <td>2018-01-01 01:38:00</td>\n",
       "      <td>Queen St W / Cowan Ave</td>\n",
       "      <td>2018-01-01 01:41:00</td>\n",
       "      <td>7193</td>\n",
       "      <td>Queen St W / Gladstone Ave</td>\n",
       "      <td>Annual Member</td>\n",
       "      <td>2018-01-01 01:38:00</td>\n",
       "      <td>Late Night</td>\n",
       "      <td>3.0</td>\n",
       "      <td>1</td>\n",
       "      <td>Jan</td>\n",
       "      <td>Mon</td>\n",
       "      <td>Queen St W / Cowan Ave to Queen St W / Gladsto...</td>\n",
       "      <td>2018-01-01</td>\n",
       "      <td>1</td>\n",
       "      <td>January</td>\n",
       "      <td>Mon</td>\n",
       "      <td>1</td>\n",
       "    </tr>\n",
       "  </tbody>\n",
       "</table>\n",
       "</div>"
      ],
      "text/plain": [
       "            trip_id  trip_duration_seconds  ...  Day of Week Hour\n",
       "index                                       ...                  \n",
       "2018-01-01  2383648                    393  ...          Mon    0\n",
       "2018-01-01  2383649                    625  ...          Mon    0\n",
       "2018-01-01  2383650                    233  ...          Mon    0\n",
       "2018-01-01  2383651                   1138  ...          Mon    0\n",
       "2018-01-01  2383652                    703  ...          Mon    1\n",
       "2018-01-01  2383653                   1026  ...          Mon    1\n",
       "2018-01-01  2383654                    274  ...          Mon    1\n",
       "2018-01-01  2383655                    764  ...          Mon    1\n",
       "2018-01-01  2383657                    237  ...          Mon    1\n",
       "2018-01-01  2383658                    180  ...          Mon    1\n",
       "\n",
       "[10 rows x 21 columns]"
      ]
     },
     "execution_count": 94,
     "metadata": {
      "tags": []
     },
     "output_type": "execute_result"
    }
   ],
   "source": [
    "import datetime as dt\n",
    "from pandas.api.types import CategoricalDtype\n",
    "# Create the day of week Category by iterrating over 7 days (Oktober 19th, 2020 is a Monday)\n",
    "days = [(dt.datetime(2020, 10, 19) + dt.timedelta(days=x)).strftime('%a') for x in range(0, 7)]\n",
    "day_type = CategoricalDtype(categories=days, ordered=True)\n",
    "\n",
    "# Create the month Category by iterrating over the months\n",
    "months = [dt.datetime(2020, x, 1).strftime('%B') for x in range(1, 13)]\n",
    "month_type = CategoricalDtype(categories=months, ordered=True)\n",
    "\n",
    "\n",
    "data['Date'] = data['time'].apply(lambda x: x.strftime('%Y-%m-%d'))\n",
    "data['Quarter'] = data['time'].apply(lambda x: int((int(x.strftime('%m')) - 1) / 3) + 1)\n",
    "data['Month'] = data['time'].apply(lambda x: x.strftime('%B')).astype(month_type)\n",
    "data['Day of Week'] = data['time'].apply(lambda x: x.strftime('%a')).astype(day_type)\n",
    "data['Hour'] = data['time'].apply(lambda time: time.hour)\n",
    "data.head(10)"
   ]
  },
  {
   "cell_type": "code",
   "execution_count": 95,
   "metadata": {
    "colab": {
     "base_uri": "https://localhost:8080/",
     "height": 431
    },
    "id": "gggpYv9m3JeD",
    "outputId": "3731a968-a739-4b81-f029-73b8d9a8cf22"
   },
   "outputs": [
    {
     "data": {
      "text/html": [
       "<div>\n",
       "<style scoped>\n",
       "    .dataframe tbody tr th:only-of-type {\n",
       "        vertical-align: middle;\n",
       "    }\n",
       "\n",
       "    .dataframe tbody tr th {\n",
       "        vertical-align: top;\n",
       "    }\n",
       "\n",
       "    .dataframe thead th {\n",
       "        text-align: right;\n",
       "    }\n",
       "</style>\n",
       "<table border=\"1\" class=\"dataframe\">\n",
       "  <thead>\n",
       "    <tr style=\"text-align: right;\">\n",
       "      <th></th>\n",
       "      <th>trip_id</th>\n",
       "      <th>period</th>\n",
       "      <th>Date</th>\n",
       "      <th>Quarter</th>\n",
       "      <th>Month</th>\n",
       "      <th>Day of Week</th>\n",
       "      <th>user_type</th>\n",
       "      <th>Hour</th>\n",
       "    </tr>\n",
       "    <tr>\n",
       "      <th>index</th>\n",
       "      <th></th>\n",
       "      <th></th>\n",
       "      <th></th>\n",
       "      <th></th>\n",
       "      <th></th>\n",
       "      <th></th>\n",
       "      <th></th>\n",
       "      <th></th>\n",
       "    </tr>\n",
       "  </thead>\n",
       "  <tbody>\n",
       "    <tr>\n",
       "      <th>2018-01-01</th>\n",
       "      <td>2383648</td>\n",
       "      <td>Late Night</td>\n",
       "      <td>2018-01-01</td>\n",
       "      <td>1</td>\n",
       "      <td>January</td>\n",
       "      <td>Mon</td>\n",
       "      <td>Annual Member</td>\n",
       "      <td>0</td>\n",
       "    </tr>\n",
       "    <tr>\n",
       "      <th>2018-01-01</th>\n",
       "      <td>2383649</td>\n",
       "      <td>Late Night</td>\n",
       "      <td>2018-01-01</td>\n",
       "      <td>1</td>\n",
       "      <td>January</td>\n",
       "      <td>Mon</td>\n",
       "      <td>Annual Member</td>\n",
       "      <td>0</td>\n",
       "    </tr>\n",
       "    <tr>\n",
       "      <th>2018-01-01</th>\n",
       "      <td>2383650</td>\n",
       "      <td>Late Night</td>\n",
       "      <td>2018-01-01</td>\n",
       "      <td>1</td>\n",
       "      <td>January</td>\n",
       "      <td>Mon</td>\n",
       "      <td>Annual Member</td>\n",
       "      <td>0</td>\n",
       "    </tr>\n",
       "    <tr>\n",
       "      <th>2018-01-01</th>\n",
       "      <td>2383651</td>\n",
       "      <td>Late Night</td>\n",
       "      <td>2018-01-01</td>\n",
       "      <td>1</td>\n",
       "      <td>January</td>\n",
       "      <td>Mon</td>\n",
       "      <td>Annual Member</td>\n",
       "      <td>0</td>\n",
       "    </tr>\n",
       "    <tr>\n",
       "      <th>2018-01-01</th>\n",
       "      <td>2383652</td>\n",
       "      <td>Late Night</td>\n",
       "      <td>2018-01-01</td>\n",
       "      <td>1</td>\n",
       "      <td>January</td>\n",
       "      <td>Mon</td>\n",
       "      <td>Annual Member</td>\n",
       "      <td>1</td>\n",
       "    </tr>\n",
       "    <tr>\n",
       "      <th>...</th>\n",
       "      <td>...</td>\n",
       "      <td>...</td>\n",
       "      <td>...</td>\n",
       "      <td>...</td>\n",
       "      <td>...</td>\n",
       "      <td>...</td>\n",
       "      <td>...</td>\n",
       "      <td>...</td>\n",
       "    </tr>\n",
       "    <tr>\n",
       "      <th>2018-12-31</th>\n",
       "      <td>4581273</td>\n",
       "      <td>Night</td>\n",
       "      <td>2018-12-31</td>\n",
       "      <td>4</td>\n",
       "      <td>December</td>\n",
       "      <td>Mon</td>\n",
       "      <td>Annual Member</td>\n",
       "      <td>23</td>\n",
       "    </tr>\n",
       "    <tr>\n",
       "      <th>2018-12-31</th>\n",
       "      <td>4581274</td>\n",
       "      <td>Night</td>\n",
       "      <td>2018-12-31</td>\n",
       "      <td>4</td>\n",
       "      <td>December</td>\n",
       "      <td>Mon</td>\n",
       "      <td>Annual Member</td>\n",
       "      <td>23</td>\n",
       "    </tr>\n",
       "    <tr>\n",
       "      <th>2018-12-31</th>\n",
       "      <td>4581275</td>\n",
       "      <td>Night</td>\n",
       "      <td>2018-12-31</td>\n",
       "      <td>4</td>\n",
       "      <td>December</td>\n",
       "      <td>Mon</td>\n",
       "      <td>Annual Member</td>\n",
       "      <td>23</td>\n",
       "    </tr>\n",
       "    <tr>\n",
       "      <th>2018-12-31</th>\n",
       "      <td>4581276</td>\n",
       "      <td>Night</td>\n",
       "      <td>2018-12-31</td>\n",
       "      <td>4</td>\n",
       "      <td>December</td>\n",
       "      <td>Mon</td>\n",
       "      <td>Annual Member</td>\n",
       "      <td>23</td>\n",
       "    </tr>\n",
       "    <tr>\n",
       "      <th>2018-12-31</th>\n",
       "      <td>4581277</td>\n",
       "      <td>Night</td>\n",
       "      <td>2018-12-31</td>\n",
       "      <td>4</td>\n",
       "      <td>December</td>\n",
       "      <td>Mon</td>\n",
       "      <td>Annual Member</td>\n",
       "      <td>23</td>\n",
       "    </tr>\n",
       "  </tbody>\n",
       "</table>\n",
       "<p>1922955 rows × 8 columns</p>\n",
       "</div>"
      ],
      "text/plain": [
       "            trip_id      period        Date  ...  Day of Week      user_type Hour\n",
       "index                                        ...                                 \n",
       "2018-01-01  2383648  Late Night  2018-01-01  ...          Mon  Annual Member    0\n",
       "2018-01-01  2383649  Late Night  2018-01-01  ...          Mon  Annual Member    0\n",
       "2018-01-01  2383650  Late Night  2018-01-01  ...          Mon  Annual Member    0\n",
       "2018-01-01  2383651  Late Night  2018-01-01  ...          Mon  Annual Member    0\n",
       "2018-01-01  2383652  Late Night  2018-01-01  ...          Mon  Annual Member    1\n",
       "...             ...         ...         ...  ...          ...            ...  ...\n",
       "2018-12-31  4581273       Night  2018-12-31  ...          Mon  Annual Member   23\n",
       "2018-12-31  4581274       Night  2018-12-31  ...          Mon  Annual Member   23\n",
       "2018-12-31  4581275       Night  2018-12-31  ...          Mon  Annual Member   23\n",
       "2018-12-31  4581276       Night  2018-12-31  ...          Mon  Annual Member   23\n",
       "2018-12-31  4581277       Night  2018-12-31  ...          Mon  Annual Member   23\n",
       "\n",
       "[1922955 rows x 8 columns]"
      ]
     },
     "execution_count": 95,
     "metadata": {
      "tags": []
     },
     "output_type": "execute_result"
    }
   ],
   "source": [
    "# Aggregate the ridership by date fields and user type and count the number of unique trips\n",
    "ridership = data\n",
    "ridership = ridership[['trip_id','period','Date', 'Quarter', 'Month', 'Day of Week', 'user_type','Hour']]\n",
    "ridership"
   ]
  },
  {
   "cell_type": "code",
   "execution_count": 96,
   "metadata": {
    "colab": {
     "base_uri": "https://localhost:8080/",
     "height": 389
    },
    "id": "x3UGhIXY3MqU",
    "outputId": "05e2daf9-a55d-4cb1-a111-21c0f8b355a7"
   },
   "outputs": [
    {
     "name": "stderr",
     "output_type": "stream",
     "text": [
      "No handles with labels found to put in legend.\n"
     ]
    },
    {
     "data": {
      "text/plain": [
       "<matplotlib.legend.Legend at 0x7f2dfd698f60>"
      ]
     },
     "execution_count": 96,
     "metadata": {
      "tags": []
     },
     "output_type": "execute_result"
    },
    {
     "data": {
      "image/png": "[encoded data removed]",
      "text/plain": [
       "<Figure size 720x360 with 1 Axes>"
      ]
     },
     "metadata": {
      "tags": []
     },
     "output_type": "display_data"
    }
   ],
   "source": [
    "#Jumlah Bike share selama 1 tahun\n",
    "plt.figure(figsize=(10,5))\n",
    "sns.set_style('darkgrid')\n",
    "ridership = sns.countplot(data=ridership, x='Hour', palette='coolwarm')\n",
    "plt.title('Bike Share Toronto Ridership 2018')\n",
    "plt.legend(bbox_to_anchor=(1.02, 1), loc=2, borderaxespad=0.1)"
   ]
  },
  {
   "cell_type": "code",
   "execution_count": 98,
   "metadata": {
    "colab": {
     "base_uri": "https://localhost:8080/",
     "height": 1000
    },
    "id": "zNohxJ1Y3QZd",
    "outputId": "081b22c5-c27b-441e-eb33-e6166832d7f1"
   },
   "outputs": [
    {
     "name": "stderr",
     "output_type": "stream",
     "text": [
      "No handles with labels found to put in legend.\n",
      "No handles with labels found to put in legend.\n",
      "No handles with labels found to put in legend.\n",
      "No handles with labels found to put in legend.\n"
     ]
    },
    {
     "data": {
      "text/plain": [
       "<matplotlib.legend.Legend at 0x7f2dfa7950b8>"
      ]
     },
     "execution_count": 98,
     "metadata": {
      "tags": []
     },
     "output_type": "execute_result"
    },
    {
     "data": {
      "image/png": "[encoded data removed]",
      "text/plain": [
       "<Figure size 720x360 with 1 Axes>"
      ]
     },
     "metadata": {
      "tags": []
     },
     "output_type": "display_data"
    },
    {
     "data": {
      "image/png": "[encoded data removed]",
      "text/plain": [
       "<Figure size 720x360 with 1 Axes>"
      ]
     },
     "metadata": {
      "tags": []
     },
     "output_type": "display_data"
    },
    {
     "data": {
      "image/png": "[encoded data removed]",
      "text/plain": [
       "<Figure size 720x360 with 1 Axes>"
      ]
     },
     "metadata": {
      "tags": []
     },
     "output_type": "display_data"
    },
    {
     "data": {
      "image/png": "[encoded data removed]",
      "text/plain": [
       "<Figure size 720x360 with 1 Axes>"
      ]
     },
     "metadata": {
      "tags": []
     },
     "output_type": "display_data"
    }
   ],
   "source": [
    "#Mengelompokkan berdasarkan Quartil\n",
    "Quarter_1 = data[(data['Quarter'] == 1)]\n",
    "Quarter_2 = data[(data['Quarter'] == 2)]\n",
    "Quarter_3 = data[(data['Quarter'] == 3)]\n",
    "Quarter_4 = data[(data['Quarter'] == 4)]\n",
    "\n",
    "#Quartil 1\n",
    "plt.figure(figsize=(10,5))\n",
    "sns.set_style('darkgrid')\n",
    "ridership = sns.countplot(data=Quarter_1, x='Hour', palette='coolwarm')\n",
    "plt.title('Bike Share Toronto Ridership Januari - Maret 2018')\n",
    "plt.legend(bbox_to_anchor=(1.02, 1), loc=2, borderaxespad=0.1)\n",
    "#Quartil 2\n",
    "plt.figure(figsize=(10,5))\n",
    "sns.set_style('darkgrid')\n",
    "ridership = sns.countplot(data=Quarter_2, x='Hour', palette='coolwarm')\n",
    "plt.title('Bike Share Toronto Ridership April - Juni 2018')\n",
    "plt.legend(bbox_to_anchor=(1.02, 1), loc=2, borderaxespad=0.1)\n",
    "#Quartil 3\n",
    "plt.figure(figsize=(10,5))\n",
    "sns.set_style('darkgrid')\n",
    "ridership = sns.countplot(data=Quarter_3, x='Hour', palette='coolwarm')\n",
    "plt.title('Bike Share Toronto Ridership Juli - September 2018')\n",
    "plt.legend(bbox_to_anchor=(1.02, 1), loc=2, borderaxespad=0.1)\n",
    "#Quartil 4\n",
    "plt.figure(figsize=(10,5))\n",
    "sns.set_style('darkgrid')\n",
    "ridership = sns.countplot(data=Quarter_4, x='Hour', palette='coolwarm')\n",
    "plt.title('Bike Share Toronto Ridership Oktober - Desember 2018')\n",
    "plt.legend(bbox_to_anchor=(1.02, 1), loc=2, borderaxespad=0.1)"
   ]
  },
  {
   "cell_type": "markdown",
   "metadata": {
    "id": "tY5dBJhpoOot"
   },
   "source": [
    "### **4. Which station is the most crowded?**"
   ]
  },
  {
   "cell_type": "code",
   "execution_count": 47,
   "metadata": {
    "colab": {
     "base_uri": "https://localhost:8080/",
     "height": 367
    },
    "id": "JL8vhdG5nERm",
    "outputId": "aa581a13-4484-462a-a4a1-da052011e5f4"
   },
   "outputs": [
    {
     "data": {
      "text/plain": [
       "Text(0.5, 1.0, 'Top 5 Most Crowded Departing Station')"
      ]
     },
     "execution_count": 47,
     "metadata": {
      "tags": []
     },
     "output_type": "execute_result"
    },
    {
     "data": {
      "image/png": "[encoded data removed]",
      "text/plain": [
       "<Figure size 720x360 with 1 Axes>"
      ]
     },
     "metadata": {
      "tags": []
     },
     "output_type": "display_data"
    }
   ],
   "source": [
    "import seaborn as sns\n",
    "plt.figure(figsize=(10,5))\n",
    "sns.set_style('darkgrid')\n",
    "sns.countplot(y=data['from_station_name'],data=data, palette='deep',order=data['from_station_name'].value_counts().index[:5])\n",
    "plt.title('Top 5 Most Crowded Departing Station')"
   ]
  },
  {
   "cell_type": "code",
   "execution_count": 48,
   "metadata": {
    "colab": {
     "base_uri": "https://localhost:8080/",
     "height": 367
    },
    "id": "PGfwveTHngwc",
    "outputId": "59831540-fb3a-45ed-b88c-03ea4353aa48"
   },
   "outputs": [
    {
     "data": {
      "text/plain": [
       "Text(0.5, 1.0, 'Top 5 Most Crowded Arriving Station')"
      ]
     },
     "execution_count": 48,
     "metadata": {
      "tags": []
     },
     "output_type": "execute_result"
    },
    {
     "data": {
      "image/png": "[encoded data removed]",
      "text/plain": [
       "<Figure size 720x360 with 1 Axes>"
      ]
     },
     "metadata": {
      "tags": []
     },
     "output_type": "display_data"
    }
   ],
   "source": [
    "plt.figure(figsize=(10,5))\n",
    "sns.set_style('darkgrid')\n",
    "sns.countplot(y=data['to_station_name'],data=data, palette='deep',order=data['to_station_name'].value_counts().index[:5])\n",
    "plt.title('Top 5 Most Crowded Arriving Station')"
   ]
  },
  {
   "cell_type": "markdown",
   "metadata": {
    "id": "D-A3AURJomls"
   },
   "source": [
    "### **5. What are the behaviour differences between annual and casual members?**"
   ]
  },
  {
   "cell_type": "code",
   "execution_count": 51,
   "metadata": {
    "colab": {
     "base_uri": "https://localhost:8080/",
     "height": 393
    },
    "id": "aWLlsmAJn3yJ",
    "outputId": "7ec07b25-73ce-4632-daa1-85a9ec4c7b89"
   },
   "outputs": [
    {
     "data": {
      "text/html": [
       "<div>\n",
       "<style scoped>\n",
       "    .dataframe tbody tr th:only-of-type {\n",
       "        vertical-align: middle;\n",
       "    }\n",
       "\n",
       "    .dataframe tbody tr th {\n",
       "        vertical-align: top;\n",
       "    }\n",
       "\n",
       "    .dataframe thead th {\n",
       "        text-align: right;\n",
       "    }\n",
       "</style>\n",
       "<table border=\"1\" class=\"dataframe\">\n",
       "  <thead>\n",
       "    <tr style=\"text-align: right;\">\n",
       "      <th></th>\n",
       "      <th>trip_id</th>\n",
       "      <th>trip_duration_seconds</th>\n",
       "      <th>from_station_id</th>\n",
       "      <th>trip_start_time</th>\n",
       "      <th>from_station_name</th>\n",
       "      <th>trip_stop_time</th>\n",
       "      <th>to_station_id</th>\n",
       "      <th>to_station_name</th>\n",
       "      <th>user_type</th>\n",
       "      <th>time</th>\n",
       "      <th>period</th>\n",
       "      <th>duration_min</th>\n",
       "    </tr>\n",
       "    <tr>\n",
       "      <th>index</th>\n",
       "      <th></th>\n",
       "      <th></th>\n",
       "      <th></th>\n",
       "      <th></th>\n",
       "      <th></th>\n",
       "      <th></th>\n",
       "      <th></th>\n",
       "      <th></th>\n",
       "      <th></th>\n",
       "      <th></th>\n",
       "      <th></th>\n",
       "      <th></th>\n",
       "    </tr>\n",
       "  </thead>\n",
       "  <tbody>\n",
       "    <tr>\n",
       "      <th>2018-01-01</th>\n",
       "      <td>2383648</td>\n",
       "      <td>393</td>\n",
       "      <td>7018</td>\n",
       "      <td>1/1/2018 0:47</td>\n",
       "      <td>Bremner Blvd / Rees St</td>\n",
       "      <td>1/1/2018 0:54</td>\n",
       "      <td>7176</td>\n",
       "      <td>Bathurst St / Fort York Blvd</td>\n",
       "      <td>Annual Member</td>\n",
       "      <td>2018-01-01 00:47:00</td>\n",
       "      <td>Late Night</td>\n",
       "      <td>7.0</td>\n",
       "    </tr>\n",
       "    <tr>\n",
       "      <th>2018-01-01</th>\n",
       "      <td>2383649</td>\n",
       "      <td>625</td>\n",
       "      <td>7184</td>\n",
       "      <td>1/1/2018 0:52</td>\n",
       "      <td>Ossington Ave / College St</td>\n",
       "      <td>1/1/2018 1:03</td>\n",
       "      <td>7191</td>\n",
       "      <td>Central Tech  (Harbord St)</td>\n",
       "      <td>Annual Member</td>\n",
       "      <td>2018-01-01 00:52:00</td>\n",
       "      <td>Late Night</td>\n",
       "      <td>10.0</td>\n",
       "    </tr>\n",
       "    <tr>\n",
       "      <th>2018-01-01</th>\n",
       "      <td>2383650</td>\n",
       "      <td>233</td>\n",
       "      <td>7235</td>\n",
       "      <td>1/1/2018 0:55</td>\n",
       "      <td>Bay St / College St (West Side) - SMART</td>\n",
       "      <td>1/1/2018 0:59</td>\n",
       "      <td>7021</td>\n",
       "      <td>Bay St / Albert St</td>\n",
       "      <td>Annual Member</td>\n",
       "      <td>2018-01-01 00:55:00</td>\n",
       "      <td>Late Night</td>\n",
       "      <td>4.0</td>\n",
       "    </tr>\n",
       "    <tr>\n",
       "      <th>2018-01-01</th>\n",
       "      <td>2383651</td>\n",
       "      <td>1138</td>\n",
       "      <td>7202</td>\n",
       "      <td>1/1/2018 0:57</td>\n",
       "      <td>Queen St W / York St (City Hall)</td>\n",
       "      <td>1/1/2018 1:16</td>\n",
       "      <td>7020</td>\n",
       "      <td>Phoebe St / Spadina Ave</td>\n",
       "      <td>Annual Member</td>\n",
       "      <td>2018-01-01 00:57:00</td>\n",
       "      <td>Late Night</td>\n",
       "      <td>19.0</td>\n",
       "    </tr>\n",
       "    <tr>\n",
       "      <th>2018-01-01</th>\n",
       "      <td>2383652</td>\n",
       "      <td>703</td>\n",
       "      <td>7004</td>\n",
       "      <td>1/1/2018 1:00</td>\n",
       "      <td>University Ave / Elm St</td>\n",
       "      <td>1/1/2018 1:12</td>\n",
       "      <td>7060</td>\n",
       "      <td>Princess St / Adelaide St E</td>\n",
       "      <td>Annual Member</td>\n",
       "      <td>2018-01-01 01:00:00</td>\n",
       "      <td>Late Night</td>\n",
       "      <td>12.0</td>\n",
       "    </tr>\n",
       "  </tbody>\n",
       "</table>\n",
       "</div>"
      ],
      "text/plain": [
       "            trip_id  trip_duration_seconds  ...      period duration_min\n",
       "index                                       ...                         \n",
       "2018-01-01  2383648                    393  ...  Late Night          7.0\n",
       "2018-01-01  2383649                    625  ...  Late Night         10.0\n",
       "2018-01-01  2383650                    233  ...  Late Night          4.0\n",
       "2018-01-01  2383651                   1138  ...  Late Night         19.0\n",
       "2018-01-01  2383652                    703  ...  Late Night         12.0\n",
       "\n",
       "[5 rows x 12 columns]"
      ]
     },
     "execution_count": 51,
     "metadata": {
      "tags": []
     },
     "output_type": "execute_result"
    }
   ],
   "source": [
    "data['duration_min']=round(data['trip_duration_seconds']/60)\n",
    "data.head()"
   ]
  },
  {
   "cell_type": "code",
   "execution_count": 52,
   "metadata": {
    "id": "yyxy0ueepc_V"
   },
   "outputs": [],
   "source": [
    "grouped = data.groupby('user_type')['trip_duration_seconds'].count()\n",
    "total_count = grouped[0]+grouped[1]\n",
    "percent_a = round(grouped[0]/total_count*100)\n",
    "percent_c = round(grouped[1]/total_count*100)"
   ]
  },
  {
   "cell_type": "code",
   "execution_count": 53,
   "metadata": {
    "colab": {
     "base_uri": "https://localhost:8080/",
     "height": 34
    },
    "id": "IoKEZNwjple7",
    "outputId": "bbd8110a-03b4-4e5b-b99c-a845ae9e0f44"
   },
   "outputs": [
    {
     "name": "stdout",
     "output_type": "stream",
     "text": [
      "In 2018, Annual Member made up to 82.0 % with total members of 1572980\n"
     ]
    }
   ],
   "source": [
    "print('In 2018, Annual Member made up to', percent_a, '%', 'with total members of', grouped[0])"
   ]
  },
  {
   "cell_type": "code",
   "execution_count": 57,
   "metadata": {
    "colab": {
     "base_uri": "https://localhost:8080/",
     "height": 313
    },
    "id": "ReSfvAeWpn1c",
    "outputId": "7ddce8be-fa49-4a40-d02a-9bd0d1b96b29"
   },
   "outputs": [
    {
     "data": {
      "text/plain": [
       "Text(0.5, 1.0, 'Bike Share Toronto Membership 2018')"
      ]
     },
     "execution_count": 57,
     "metadata": {
      "tags": []
     },
     "output_type": "execute_result"
    },
    {
     "data": {
      "image/png": "[encoded data removed]",
      "text/plain": [
       "<Figure size 360x288 with 1 Axes>"
      ]
     },
     "metadata": {
      "tags": []
     },
     "output_type": "display_data"
    }
   ],
   "source": [
    "plt.figure(figsize=(5,4))\n",
    "sns.set_style('darkgrid')\n",
    "sns.countplot(x='user_type',data=data,palette='viridis')\n",
    "plt.title('Bike Share Toronto Membership 2018')"
   ]
  },
  {
   "cell_type": "code",
   "execution_count": 58,
   "metadata": {
    "id": "WKN1XbVbpq-d"
   },
   "outputs": [],
   "source": [
    "data['trip_start_time'] = pd.to_datetime(data['trip_start_time'])\n",
    "data['trip_stop_time'] = pd.to_datetime(data['trip_stop_time'])"
   ]
  },
  {
   "cell_type": "code",
   "execution_count": 59,
   "metadata": {
    "colab": {
     "base_uri": "https://localhost:8080/",
     "height": 393
    },
    "id": "HaSyQ-1Fp7fU",
    "outputId": "33f56320-2198-466b-d234-f5dc2658b1c9"
   },
   "outputs": [
    {
     "data": {
      "text/html": [
       "<div>\n",
       "<style scoped>\n",
       "    .dataframe tbody tr th:only-of-type {\n",
       "        vertical-align: middle;\n",
       "    }\n",
       "\n",
       "    .dataframe tbody tr th {\n",
       "        vertical-align: top;\n",
       "    }\n",
       "\n",
       "    .dataframe thead th {\n",
       "        text-align: right;\n",
       "    }\n",
       "</style>\n",
       "<table border=\"1\" class=\"dataframe\">\n",
       "  <thead>\n",
       "    <tr style=\"text-align: right;\">\n",
       "      <th></th>\n",
       "      <th>trip_id</th>\n",
       "      <th>trip_duration_seconds</th>\n",
       "      <th>from_station_id</th>\n",
       "      <th>trip_start_time</th>\n",
       "      <th>from_station_name</th>\n",
       "      <th>trip_stop_time</th>\n",
       "      <th>to_station_id</th>\n",
       "      <th>to_station_name</th>\n",
       "      <th>user_type</th>\n",
       "      <th>time</th>\n",
       "      <th>period</th>\n",
       "      <th>duration_min</th>\n",
       "    </tr>\n",
       "    <tr>\n",
       "      <th>index</th>\n",
       "      <th></th>\n",
       "      <th></th>\n",
       "      <th></th>\n",
       "      <th></th>\n",
       "      <th></th>\n",
       "      <th></th>\n",
       "      <th></th>\n",
       "      <th></th>\n",
       "      <th></th>\n",
       "      <th></th>\n",
       "      <th></th>\n",
       "      <th></th>\n",
       "    </tr>\n",
       "  </thead>\n",
       "  <tbody>\n",
       "    <tr>\n",
       "      <th>2018-01-01</th>\n",
       "      <td>2383648</td>\n",
       "      <td>393</td>\n",
       "      <td>7018</td>\n",
       "      <td>2018-01-01 00:47:00</td>\n",
       "      <td>Bremner Blvd / Rees St</td>\n",
       "      <td>2018-01-01 00:54:00</td>\n",
       "      <td>7176</td>\n",
       "      <td>Bathurst St / Fort York Blvd</td>\n",
       "      <td>Annual Member</td>\n",
       "      <td>2018-01-01 00:47:00</td>\n",
       "      <td>Late Night</td>\n",
       "      <td>7.0</td>\n",
       "    </tr>\n",
       "    <tr>\n",
       "      <th>2018-01-01</th>\n",
       "      <td>2383649</td>\n",
       "      <td>625</td>\n",
       "      <td>7184</td>\n",
       "      <td>2018-01-01 00:52:00</td>\n",
       "      <td>Ossington Ave / College St</td>\n",
       "      <td>2018-01-01 01:03:00</td>\n",
       "      <td>7191</td>\n",
       "      <td>Central Tech  (Harbord St)</td>\n",
       "      <td>Annual Member</td>\n",
       "      <td>2018-01-01 00:52:00</td>\n",
       "      <td>Late Night</td>\n",
       "      <td>10.0</td>\n",
       "    </tr>\n",
       "    <tr>\n",
       "      <th>2018-01-01</th>\n",
       "      <td>2383650</td>\n",
       "      <td>233</td>\n",
       "      <td>7235</td>\n",
       "      <td>2018-01-01 00:55:00</td>\n",
       "      <td>Bay St / College St (West Side) - SMART</td>\n",
       "      <td>2018-01-01 00:59:00</td>\n",
       "      <td>7021</td>\n",
       "      <td>Bay St / Albert St</td>\n",
       "      <td>Annual Member</td>\n",
       "      <td>2018-01-01 00:55:00</td>\n",
       "      <td>Late Night</td>\n",
       "      <td>4.0</td>\n",
       "    </tr>\n",
       "    <tr>\n",
       "      <th>2018-01-01</th>\n",
       "      <td>2383651</td>\n",
       "      <td>1138</td>\n",
       "      <td>7202</td>\n",
       "      <td>2018-01-01 00:57:00</td>\n",
       "      <td>Queen St W / York St (City Hall)</td>\n",
       "      <td>2018-01-01 01:16:00</td>\n",
       "      <td>7020</td>\n",
       "      <td>Phoebe St / Spadina Ave</td>\n",
       "      <td>Annual Member</td>\n",
       "      <td>2018-01-01 00:57:00</td>\n",
       "      <td>Late Night</td>\n",
       "      <td>19.0</td>\n",
       "    </tr>\n",
       "    <tr>\n",
       "      <th>2018-01-01</th>\n",
       "      <td>2383652</td>\n",
       "      <td>703</td>\n",
       "      <td>7004</td>\n",
       "      <td>2018-01-01 01:00:00</td>\n",
       "      <td>University Ave / Elm St</td>\n",
       "      <td>2018-01-01 01:12:00</td>\n",
       "      <td>7060</td>\n",
       "      <td>Princess St / Adelaide St E</td>\n",
       "      <td>Annual Member</td>\n",
       "      <td>2018-01-01 01:00:00</td>\n",
       "      <td>Late Night</td>\n",
       "      <td>12.0</td>\n",
       "    </tr>\n",
       "  </tbody>\n",
       "</table>\n",
       "</div>"
      ],
      "text/plain": [
       "            trip_id  trip_duration_seconds  ...      period duration_min\n",
       "index                                       ...                         \n",
       "2018-01-01  2383648                    393  ...  Late Night          7.0\n",
       "2018-01-01  2383649                    625  ...  Late Night         10.0\n",
       "2018-01-01  2383650                    233  ...  Late Night          4.0\n",
       "2018-01-01  2383651                   1138  ...  Late Night         19.0\n",
       "2018-01-01  2383652                    703  ...  Late Night         12.0\n",
       "\n",
       "[5 rows x 12 columns]"
      ]
     },
     "execution_count": 59,
     "metadata": {
      "tags": []
     },
     "output_type": "execute_result"
    }
   ],
   "source": [
    "data.head()"
   ]
  },
  {
   "cell_type": "code",
   "execution_count": 60,
   "metadata": {
    "id": "Io6lh9XtqIEC"
   },
   "outputs": [],
   "source": [
    "# Membuat kolom baru untuk mendapatkan jam, hari, dan bulan pemakaian\n",
    "data['hour_start'] = data['trip_start_time'].apply(lambda time: time.hour)\n",
    "data['month_start'] = data['trip_start_time'].apply(lambda time: time.month)\n",
    "data['weekday_start'] = data['trip_start_time'].apply(lambda time: time.dayofweek)"
   ]
  },
  {
   "cell_type": "code",
   "execution_count": 61,
   "metadata": {
    "id": "ozOlpGxSqI8n"
   },
   "outputs": [],
   "source": [
    "mon = {1:'Jan',2:'Feb',3:'Mar',4:'Apr',5:'May',6:'Jun',7:'Jul',8:'Aug',9:'Sep',10:'Oct',11:'Nov',12:'Dec'}\n",
    "data['month_start'] = data['month_start'].map(mon)\n",
    "\n",
    "day = {0:'Mon',1:'Tue',2:'Wed',3:'Thu',4:'Fri',5:'Sat',6:'Sun'}\n",
    "data['weekday_start'] = data['weekday_start'].map(day)"
   ]
  },
  {
   "cell_type": "code",
   "execution_count": 62,
   "metadata": {
    "colab": {
     "base_uri": "https://localhost:8080/",
     "height": 413
    },
    "id": "G-O146RnqKu7",
    "outputId": "3ed878b7-1380-4189-ab3e-5acf7bf35c6d"
   },
   "outputs": [
    {
     "data": {
      "text/html": [
       "<div>\n",
       "<style scoped>\n",
       "    .dataframe tbody tr th:only-of-type {\n",
       "        vertical-align: middle;\n",
       "    }\n",
       "\n",
       "    .dataframe tbody tr th {\n",
       "        vertical-align: top;\n",
       "    }\n",
       "\n",
       "    .dataframe thead th {\n",
       "        text-align: right;\n",
       "    }\n",
       "</style>\n",
       "<table border=\"1\" class=\"dataframe\">\n",
       "  <thead>\n",
       "    <tr style=\"text-align: right;\">\n",
       "      <th></th>\n",
       "      <th>trip_id</th>\n",
       "      <th>trip_duration_seconds</th>\n",
       "      <th>from_station_id</th>\n",
       "      <th>trip_start_time</th>\n",
       "      <th>from_station_name</th>\n",
       "      <th>trip_stop_time</th>\n",
       "      <th>to_station_id</th>\n",
       "      <th>to_station_name</th>\n",
       "      <th>user_type</th>\n",
       "      <th>time</th>\n",
       "      <th>period</th>\n",
       "      <th>duration_min</th>\n",
       "      <th>hour_start</th>\n",
       "      <th>month_start</th>\n",
       "      <th>weekday_start</th>\n",
       "    </tr>\n",
       "    <tr>\n",
       "      <th>index</th>\n",
       "      <th></th>\n",
       "      <th></th>\n",
       "      <th></th>\n",
       "      <th></th>\n",
       "      <th></th>\n",
       "      <th></th>\n",
       "      <th></th>\n",
       "      <th></th>\n",
       "      <th></th>\n",
       "      <th></th>\n",
       "      <th></th>\n",
       "      <th></th>\n",
       "      <th></th>\n",
       "      <th></th>\n",
       "      <th></th>\n",
       "    </tr>\n",
       "  </thead>\n",
       "  <tbody>\n",
       "    <tr>\n",
       "      <th>2018-01-01</th>\n",
       "      <td>2383648</td>\n",
       "      <td>393</td>\n",
       "      <td>7018</td>\n",
       "      <td>2018-01-01 00:47:00</td>\n",
       "      <td>Bremner Blvd / Rees St</td>\n",
       "      <td>2018-01-01 00:54:00</td>\n",
       "      <td>7176</td>\n",
       "      <td>Bathurst St / Fort York Blvd</td>\n",
       "      <td>Annual Member</td>\n",
       "      <td>2018-01-01 00:47:00</td>\n",
       "      <td>Late Night</td>\n",
       "      <td>7.0</td>\n",
       "      <td>0</td>\n",
       "      <td>Jan</td>\n",
       "      <td>Mon</td>\n",
       "    </tr>\n",
       "    <tr>\n",
       "      <th>2018-01-01</th>\n",
       "      <td>2383649</td>\n",
       "      <td>625</td>\n",
       "      <td>7184</td>\n",
       "      <td>2018-01-01 00:52:00</td>\n",
       "      <td>Ossington Ave / College St</td>\n",
       "      <td>2018-01-01 01:03:00</td>\n",
       "      <td>7191</td>\n",
       "      <td>Central Tech  (Harbord St)</td>\n",
       "      <td>Annual Member</td>\n",
       "      <td>2018-01-01 00:52:00</td>\n",
       "      <td>Late Night</td>\n",
       "      <td>10.0</td>\n",
       "      <td>0</td>\n",
       "      <td>Jan</td>\n",
       "      <td>Mon</td>\n",
       "    </tr>\n",
       "    <tr>\n",
       "      <th>2018-01-01</th>\n",
       "      <td>2383650</td>\n",
       "      <td>233</td>\n",
       "      <td>7235</td>\n",
       "      <td>2018-01-01 00:55:00</td>\n",
       "      <td>Bay St / College St (West Side) - SMART</td>\n",
       "      <td>2018-01-01 00:59:00</td>\n",
       "      <td>7021</td>\n",
       "      <td>Bay St / Albert St</td>\n",
       "      <td>Annual Member</td>\n",
       "      <td>2018-01-01 00:55:00</td>\n",
       "      <td>Late Night</td>\n",
       "      <td>4.0</td>\n",
       "      <td>0</td>\n",
       "      <td>Jan</td>\n",
       "      <td>Mon</td>\n",
       "    </tr>\n",
       "    <tr>\n",
       "      <th>2018-01-01</th>\n",
       "      <td>2383651</td>\n",
       "      <td>1138</td>\n",
       "      <td>7202</td>\n",
       "      <td>2018-01-01 00:57:00</td>\n",
       "      <td>Queen St W / York St (City Hall)</td>\n",
       "      <td>2018-01-01 01:16:00</td>\n",
       "      <td>7020</td>\n",
       "      <td>Phoebe St / Spadina Ave</td>\n",
       "      <td>Annual Member</td>\n",
       "      <td>2018-01-01 00:57:00</td>\n",
       "      <td>Late Night</td>\n",
       "      <td>19.0</td>\n",
       "      <td>0</td>\n",
       "      <td>Jan</td>\n",
       "      <td>Mon</td>\n",
       "    </tr>\n",
       "    <tr>\n",
       "      <th>2018-01-01</th>\n",
       "      <td>2383652</td>\n",
       "      <td>703</td>\n",
       "      <td>7004</td>\n",
       "      <td>2018-01-01 01:00:00</td>\n",
       "      <td>University Ave / Elm St</td>\n",
       "      <td>2018-01-01 01:12:00</td>\n",
       "      <td>7060</td>\n",
       "      <td>Princess St / Adelaide St E</td>\n",
       "      <td>Annual Member</td>\n",
       "      <td>2018-01-01 01:00:00</td>\n",
       "      <td>Late Night</td>\n",
       "      <td>12.0</td>\n",
       "      <td>1</td>\n",
       "      <td>Jan</td>\n",
       "      <td>Mon</td>\n",
       "    </tr>\n",
       "  </tbody>\n",
       "</table>\n",
       "</div>"
      ],
      "text/plain": [
       "            trip_id  trip_duration_seconds  ...  month_start weekday_start\n",
       "index                                       ...                           \n",
       "2018-01-01  2383648                    393  ...          Jan           Mon\n",
       "2018-01-01  2383649                    625  ...          Jan           Mon\n",
       "2018-01-01  2383650                    233  ...          Jan           Mon\n",
       "2018-01-01  2383651                   1138  ...          Jan           Mon\n",
       "2018-01-01  2383652                    703  ...          Jan           Mon\n",
       "\n",
       "[5 rows x 15 columns]"
      ]
     },
     "execution_count": 62,
     "metadata": {
      "tags": []
     },
     "output_type": "execute_result"
    }
   ],
   "source": [
    "data.head()"
   ]
  },
  {
   "cell_type": "code",
   "execution_count": 63,
   "metadata": {
    "id": "ZOphWNElqdRg"
   },
   "outputs": [],
   "source": [
    "data['route']=data['from_station_name'].map(str) + ' to ' + data['to_station_name'].map(str)"
   ]
  },
  {
   "cell_type": "code",
   "execution_count": 69,
   "metadata": {
    "colab": {
     "base_uri": "https://localhost:8080/",
     "height": 367
    },
    "id": "EFCoOHVCqxJB",
    "outputId": "d49079c8-d659-407b-d3f7-f446665d963f"
   },
   "outputs": [
    {
     "data": {
      "text/plain": [
       "Text(0.5, 1.0, 'Top 5 Routes (Annual Members)')"
      ]
     },
     "execution_count": 69,
     "metadata": {
      "tags": []
     },
     "output_type": "execute_result"
    },
    {
     "data": {
      "image/png": "[encoded data removed]",
      "text/plain": [
       "<Figure size 720x360 with 1 Axes>"
      ]
     },
     "metadata": {
      "tags": []
     },
     "output_type": "display_data"
    }
   ],
   "source": [
    "plt.figure(figsize=(10,5))\n",
    "sns.set_style('darkgrid')\n",
    "sns.countplot(y=data[data['user_type']=='Annual Member']['route'],data=data, palette='rocket',order=data[data['user_type']=='Annual Member']['route'].value_counts().index[:5])\n",
    "plt.title('Top 5 Routes (Annual Members)')"
   ]
  },
  {
   "cell_type": "code",
   "execution_count": 70,
   "metadata": {
    "colab": {
     "base_uri": "https://localhost:8080/",
     "height": 367
    },
    "id": "kitDGOQAq7Gh",
    "outputId": "93c92c03-e06d-4cc0-ab7f-c0543d052481"
   },
   "outputs": [
    {
     "data": {
      "text/plain": [
       "Text(0.5, 1.0, 'Top 5 Routes (Casual Members)')"
      ]
     },
     "execution_count": 70,
     "metadata": {
      "tags": []
     },
     "output_type": "execute_result"
    },
    {
     "data": {
      "image/png": "[encoded data removed]",
      "text/plain": [
       "<Figure size 720x360 with 1 Axes>"
      ]
     },
     "metadata": {
      "tags": []
     },
     "output_type": "display_data"
    }
   ],
   "source": [
    "plt.figure(figsize=(10,5))\n",
    "sns.set_style('darkgrid')\n",
    "sns.countplot(y=data[data['user_type']=='Casual Member']['route'],data=data, palette='coolwarm',order=data[data['user_type']=='Casual Member']['route'].value_counts().index[:5])\n",
    "plt.title('Top 5 Routes (Casual Members)')"
   ]
  },
  {
   "cell_type": "code",
   "execution_count": 71,
   "metadata": {
    "colab": {
     "base_uri": "https://localhost:8080/",
     "height": 422
    },
    "id": "-JG3MxEErIGv",
    "outputId": "2ac1ec30-8709-47c8-9926-27018b3ee50d"
   },
   "outputs": [
    {
     "data": {
      "text/plain": [
       "<matplotlib.legend.Legend at 0x7f2dfdc41518>"
      ]
     },
     "execution_count": 71,
     "metadata": {
      "tags": []
     },
     "output_type": "execute_result"
    },
    {
     "data": {
      "image/png": "[encoded data removed]",
      "text/plain": [
       "<Figure size 864x432 with 1 Axes>"
      ]
     },
     "metadata": {
      "tags": []
     },
     "output_type": "display_data"
    }
   ],
   "source": [
    "# Mencari data pemakaian bikeshare tiap bulan\n",
    "plt.figure(figsize=(12,6))\n",
    "sns.set_style('darkgrid')\n",
    "ridership = sns.countplot(data=data, x='month_start', hue='user_type', palette='rocket')\n",
    "plt.title('Monthly Usage of Bikeshare')\n",
    "plt.legend(bbox_to_anchor=(1.02, 1), loc=2, borderaxespad=0.)"
   ]
  },
  {
   "cell_type": "code",
   "execution_count": 73,
   "metadata": {
    "colab": {
     "base_uri": "https://localhost:8080/",
     "height": 422
    },
    "id": "EI3qenaHrble",
    "outputId": "fc9617ec-410e-41cf-9866-dbb55f4aa77f"
   },
   "outputs": [
    {
     "data": {
      "text/plain": [
       "<matplotlib.legend.Legend at 0x7f2dfdae9358>"
      ]
     },
     "execution_count": 73,
     "metadata": {
      "tags": []
     },
     "output_type": "execute_result"
    },
    {
     "data": {
      "image/png": "[encoded data removed]",
      "text/plain": [
       "<Figure size 864x432 with 1 Axes>"
      ]
     },
     "metadata": {
      "tags": []
     },
     "output_type": "display_data"
    }
   ],
   "source": [
    "plt.figure(figsize=(12,6))\n",
    "sns.set_style('darkgrid')\n",
    "ridership = sns.countplot(data=data, x='weekday_start', hue='user_type', palette='rocket')\n",
    "plt.title('Daily Trend of Bike Share Usage')\n",
    "plt.legend(bbox_to_anchor=(1.02, 1), loc=2, borderaxespad=0.)"
   ]
  },
  {
   "cell_type": "code",
   "execution_count": 75,
   "metadata": {
    "colab": {
     "base_uri": "https://localhost:8080/",
     "height": 422
    },
    "id": "7ToKT6gPri8I",
    "outputId": "a588ffc0-1e3a-4b9d-f155-c4ef0d2022a8"
   },
   "outputs": [
    {
     "data": {
      "text/plain": [
       "<matplotlib.legend.Legend at 0x7f2dfd945e80>"
      ]
     },
     "execution_count": 75,
     "metadata": {
      "tags": []
     },
     "output_type": "execute_result"
    },
    {
     "data": {
      "image/png": "[encoded data removed]",
      "text/plain": [
       "<Figure size 864x432 with 1 Axes>"
      ]
     },
     "metadata": {
      "tags": []
     },
     "output_type": "display_data"
    }
   ],
   "source": [
    "plt.figure(figsize=(12,6))\n",
    "sns.set_style('darkgrid')\n",
    "ridership = sns.countplot(data=data, x='hour_start', hue='user_type', palette='rocket')\n",
    "plt.title('Bike Share Toronto Ridership 2018')\n",
    "plt.legend(bbox_to_anchor=(1.02, 1), loc=2, borderaxespad=0.)"
   ]
  },
  {
   "cell_type": "code",
   "execution_count": 76,
   "metadata": {
    "colab": {
     "base_uri": "https://localhost:8080/",
     "height": 225
    },
    "id": "dISqJr4DrqhP",
    "outputId": "eeaddac3-01b1-4db3-9cc8-13ccde8e2605"
   },
   "outputs": [
    {
     "data": {
      "text/html": [
       "<div>\n",
       "<style scoped>\n",
       "    .dataframe tbody tr th:only-of-type {\n",
       "        vertical-align: middle;\n",
       "    }\n",
       "\n",
       "    .dataframe tbody tr th {\n",
       "        vertical-align: top;\n",
       "    }\n",
       "\n",
       "    .dataframe thead th {\n",
       "        text-align: right;\n",
       "    }\n",
       "</style>\n",
       "<table border=\"1\" class=\"dataframe\">\n",
       "  <thead>\n",
       "    <tr style=\"text-align: right;\">\n",
       "      <th>hour_start</th>\n",
       "      <th>0</th>\n",
       "      <th>1</th>\n",
       "      <th>2</th>\n",
       "      <th>3</th>\n",
       "      <th>4</th>\n",
       "      <th>5</th>\n",
       "      <th>6</th>\n",
       "      <th>7</th>\n",
       "      <th>8</th>\n",
       "      <th>9</th>\n",
       "      <th>10</th>\n",
       "      <th>11</th>\n",
       "      <th>12</th>\n",
       "      <th>13</th>\n",
       "      <th>14</th>\n",
       "      <th>15</th>\n",
       "      <th>16</th>\n",
       "      <th>17</th>\n",
       "      <th>18</th>\n",
       "      <th>19</th>\n",
       "      <th>20</th>\n",
       "      <th>21</th>\n",
       "      <th>22</th>\n",
       "      <th>23</th>\n",
       "    </tr>\n",
       "    <tr>\n",
       "      <th>weekday_start</th>\n",
       "      <th></th>\n",
       "      <th></th>\n",
       "      <th></th>\n",
       "      <th></th>\n",
       "      <th></th>\n",
       "      <th></th>\n",
       "      <th></th>\n",
       "      <th></th>\n",
       "      <th></th>\n",
       "      <th></th>\n",
       "      <th></th>\n",
       "      <th></th>\n",
       "      <th></th>\n",
       "      <th></th>\n",
       "      <th></th>\n",
       "      <th></th>\n",
       "      <th></th>\n",
       "      <th></th>\n",
       "      <th></th>\n",
       "      <th></th>\n",
       "      <th></th>\n",
       "      <th></th>\n",
       "      <th></th>\n",
       "      <th></th>\n",
       "    </tr>\n",
       "  </thead>\n",
       "  <tbody>\n",
       "    <tr>\n",
       "      <th>Fri</th>\n",
       "      <td>2758</td>\n",
       "      <td>1435</td>\n",
       "      <td>921</td>\n",
       "      <td>415</td>\n",
       "      <td>526</td>\n",
       "      <td>1260</td>\n",
       "      <td>3920</td>\n",
       "      <td>11609</td>\n",
       "      <td>32232</td>\n",
       "      <td>20841</td>\n",
       "      <td>10622</td>\n",
       "      <td>11655</td>\n",
       "      <td>14573</td>\n",
       "      <td>14568</td>\n",
       "      <td>14195</td>\n",
       "      <td>17432</td>\n",
       "      <td>25558</td>\n",
       "      <td>32928</td>\n",
       "      <td>23487</td>\n",
       "      <td>16498</td>\n",
       "      <td>11998</td>\n",
       "      <td>9395</td>\n",
       "      <td>7385</td>\n",
       "      <td>6088</td>\n",
       "    </tr>\n",
       "    <tr>\n",
       "      <th>Mon</th>\n",
       "      <td>2163</td>\n",
       "      <td>1213</td>\n",
       "      <td>853</td>\n",
       "      <td>419</td>\n",
       "      <td>462</td>\n",
       "      <td>1295</td>\n",
       "      <td>3556</td>\n",
       "      <td>10103</td>\n",
       "      <td>27657</td>\n",
       "      <td>17099</td>\n",
       "      <td>9069</td>\n",
       "      <td>10435</td>\n",
       "      <td>13439</td>\n",
       "      <td>13504</td>\n",
       "      <td>12825</td>\n",
       "      <td>13925</td>\n",
       "      <td>21527</td>\n",
       "      <td>34102</td>\n",
       "      <td>25205</td>\n",
       "      <td>16828</td>\n",
       "      <td>12268</td>\n",
       "      <td>9289</td>\n",
       "      <td>6265</td>\n",
       "      <td>3783</td>\n",
       "    </tr>\n",
       "    <tr>\n",
       "      <th>Sat</th>\n",
       "      <td>4092</td>\n",
       "      <td>3031</td>\n",
       "      <td>2328</td>\n",
       "      <td>1028</td>\n",
       "      <td>484</td>\n",
       "      <td>481</td>\n",
       "      <td>1046</td>\n",
       "      <td>2387</td>\n",
       "      <td>5029</td>\n",
       "      <td>8721</td>\n",
       "      <td>11345</td>\n",
       "      <td>14722</td>\n",
       "      <td>17401</td>\n",
       "      <td>18793</td>\n",
       "      <td>19338</td>\n",
       "      <td>19476</td>\n",
       "      <td>19770</td>\n",
       "      <td>18857</td>\n",
       "      <td>17070</td>\n",
       "      <td>14714</td>\n",
       "      <td>11221</td>\n",
       "      <td>8531</td>\n",
       "      <td>6771</td>\n",
       "      <td>5739</td>\n",
       "    </tr>\n",
       "    <tr>\n",
       "      <th>Sun</th>\n",
       "      <td>4006</td>\n",
       "      <td>3295</td>\n",
       "      <td>2632</td>\n",
       "      <td>1255</td>\n",
       "      <td>590</td>\n",
       "      <td>506</td>\n",
       "      <td>956</td>\n",
       "      <td>2003</td>\n",
       "      <td>3762</td>\n",
       "      <td>7050</td>\n",
       "      <td>10731</td>\n",
       "      <td>13789</td>\n",
       "      <td>16296</td>\n",
       "      <td>18352</td>\n",
       "      <td>19329</td>\n",
       "      <td>20077</td>\n",
       "      <td>19791</td>\n",
       "      <td>18548</td>\n",
       "      <td>16553</td>\n",
       "      <td>13864</td>\n",
       "      <td>10903</td>\n",
       "      <td>7996</td>\n",
       "      <td>5712</td>\n",
       "      <td>4209</td>\n",
       "    </tr>\n",
       "    <tr>\n",
       "      <th>Thu</th>\n",
       "      <td>2325</td>\n",
       "      <td>1172</td>\n",
       "      <td>786</td>\n",
       "      <td>286</td>\n",
       "      <td>394</td>\n",
       "      <td>1421</td>\n",
       "      <td>4299</td>\n",
       "      <td>13083</td>\n",
       "      <td>35853</td>\n",
       "      <td>23436</td>\n",
       "      <td>10892</td>\n",
       "      <td>11146</td>\n",
       "      <td>14052</td>\n",
       "      <td>13628</td>\n",
       "      <td>12264</td>\n",
       "      <td>14885</td>\n",
       "      <td>24155</td>\n",
       "      <td>37018</td>\n",
       "      <td>27652</td>\n",
       "      <td>18586</td>\n",
       "      <td>13675</td>\n",
       "      <td>10153</td>\n",
       "      <td>7495</td>\n",
       "      <td>5217</td>\n",
       "    </tr>\n",
       "  </tbody>\n",
       "</table>\n",
       "</div>"
      ],
      "text/plain": [
       "hour_start       0     1     2     3    4   ...     19     20     21    22    23\n",
       "weekday_start                               ...                                 \n",
       "Fri            2758  1435   921   415  526  ...  16498  11998   9395  7385  6088\n",
       "Mon            2163  1213   853   419  462  ...  16828  12268   9289  6265  3783\n",
       "Sat            4092  3031  2328  1028  484  ...  14714  11221   8531  6771  5739\n",
       "Sun            4006  3295  2632  1255  590  ...  13864  10903   7996  5712  4209\n",
       "Thu            2325  1172   786   286  394  ...  18586  13675  10153  7495  5217\n",
       "\n",
       "[5 rows x 24 columns]"
      ]
     },
     "execution_count": 76,
     "metadata": {
      "tags": []
     },
     "output_type": "execute_result"
    }
   ],
   "source": [
    "# Membuat heatmap\n",
    "daily_activity = data.groupby(by=['weekday_start','hour_start']).count()['user_type'].unstack()\n",
    "daily_activity.head()"
   ]
  },
  {
   "cell_type": "code",
   "execution_count": 79,
   "metadata": {
    "colab": {
     "base_uri": "https://localhost:8080/",
     "height": 389
    },
    "id": "Yrpsp53srySZ",
    "outputId": "af820d64-8465-442c-96c4-3ba4b0ce84ed"
   },
   "outputs": [
    {
     "data": {
      "image/png": "[encoded data removed]",
      "text/plain": [
       "<Figure size 864x432 with 2 Axes>"
      ]
     },
     "metadata": {
      "tags": []
     },
     "output_type": "display_data"
    }
   ],
   "source": [
    "plt.figure(figsize=(12,6))\n",
    "heatmap = sns.heatmap(daily_activity,cmap='coolwarm')\n",
    "heatmap.figure.savefig('heatmap.png')"
   ]
  },
  {
   "cell_type": "code",
   "execution_count": 81,
   "metadata": {
    "colab": {
     "base_uri": "https://localhost:8080/",
     "height": 302
    },
    "id": "ssQK3Fvor1Tf",
    "outputId": "9b1d29c6-f3f9-4668-e1ed-ac046057414c"
   },
   "outputs": [
    {
     "data": {
      "text/plain": [
       "<matplotlib.axes._subplots.AxesSubplot at 0x7f2dfacac588>"
      ]
     },
     "execution_count": 81,
     "metadata": {
      "tags": []
     },
     "output_type": "execute_result"
    },
    {
     "data": {
      "image/png": "[encoded data removed]",
      "text/plain": [
       "<Figure size 432x288 with 1 Axes>"
      ]
     },
     "metadata": {
      "tags": []
     },
     "output_type": "display_data"
    }
   ],
   "source": [
    "sns.set_theme(style=\"whitegrid\")\n",
    "sns.lineplot(x=\"month_start\", y=\"duration_min\",\n",
    "             hue=\"user_type\",\n",
    "             data=data)"
   ]
  },
  {
   "cell_type": "code",
   "execution_count": null,
   "metadata": {
    "id": "RU9zeQ4HxD9r"
   },
   "outputs": [],
   "source": []
  }
 ],
 "metadata": {
  "accelerator": "GPU",
  "colab": {
   "collapsed_sections": [
    "rCS7WGQflhZR",
    "Tq4qP8o_mvFj",
    "NMV1Qx-QsL7s",
    "tY5dBJhpoOot"
   ],
   "name": "Challenge-2_Kelompok-2 (Data 2018).ipynb",
   "provenance": []
  },
  "kernelspec": {
   "display_name": "Python 3",
   "language": "python",
   "name": "python3"
  },
  "language_info": {
   "codemirror_mode": {
    "name": "ipython",
    "version": 3
   },
   "file_extension": ".py",
   "mimetype": "text/x-python",
   "name": "python",
   "nbconvert_exporter": "python",
   "pygments_lexer": "ipython3",
   "version": "3.6.12"
  }
 },
 "nbformat": 4,
 "nbformat_minor": 1
}
